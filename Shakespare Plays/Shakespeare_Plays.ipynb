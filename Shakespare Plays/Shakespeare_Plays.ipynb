{
  "cells": [
    {
      "cell_type": "code",
      "execution_count": 2,
      "id": "4d14902c",
      "metadata": {
        "id": "4d14902c"
      },
      "outputs": [],
      "source": [
        "import numpy as np\n",
        "import pandas as pd\n",
        "import matplotlib.pyplot as plt\n",
        "import tensorflow as tf\n",
        "from tensorflow.keras.losses import sparse_categorical_crossentropy\n",
        "from tensorflow.keras.models import Sequential\n",
        "from tensorflow.keras.layers import Embedding, GRU, Dense\n",
        "from tensorflow.keras.models import load_model, save_model"
      ]
    },
    {
      "cell_type": "markdown",
      "id": "897a2213",
      "metadata": {
        "id": "897a2213"
      },
      "source": [
        "### Initialize Dataset"
      ]
    },
    {
      "cell_type": "code",
      "execution_count": 3,
      "id": "532d2a51",
      "metadata": {
        "id": "532d2a51"
      },
      "outputs": [],
      "source": [
        "path = 'shakespeare.txt'"
      ]
    },
    {
      "cell_type": "code",
      "execution_count": 4,
      "id": "1774d5a8",
      "metadata": {
        "id": "1774d5a8"
      },
      "outputs": [],
      "source": [
        "text = open(path, 'r').read()"
      ]
    },
    {
      "cell_type": "code",
      "execution_count": 5,
      "id": "5d459789",
      "metadata": {
        "colab": {
          "base_uri": "https://localhost:8080/"
        },
        "id": "5d459789",
        "outputId": "ec52a9a2-24b3-4906-ee39-5ec9962f15c6"
      },
      "outputs": [
        {
          "output_type": "stream",
          "name": "stdout",
          "text": [
            "\n",
            "                     1\n",
            "  From fairest creatures we desire increase,\n",
            "  That thereby beauty's rose might never die,\n",
            "  But as the riper should by time decease,\n",
            "  His tender heir might bear his memory:\n",
            "  But thou contracted to thine own bright eyes,\n",
            "  Feed'st thy light's flame with self-substantial fuel,\n",
            "  Making a famine where abundance lies,\n",
            "  Thy self thy foe, to thy sweet self too cruel:\n",
            "  Thou that art now the world's fresh ornament,\n",
            "  And only herald to the gaudy spring,\n",
            "  Within thine own bud buriest thy content,\n",
            "  And tender churl mak'st waste in niggarding:\n",
            "    Pity the world, or else this glutton be,\n",
            "    To eat the world's due, by the grave and thee.\n",
            "\n",
            "\n",
            "                     2\n",
            "  When forty winters shall besiege thy brow,\n",
            "  And dig deep\n"
          ]
        }
      ],
      "source": [
        "print(text[:750])"
      ]
    },
    {
      "cell_type": "code",
      "execution_count": 6,
      "id": "784aa8a9",
      "metadata": {
        "id": "784aa8a9"
      },
      "outputs": [],
      "source": [
        "vocab = sorted(set(text))"
      ]
    },
    {
      "cell_type": "code",
      "execution_count": 7,
      "id": "37ae9c46",
      "metadata": {
        "colab": {
          "base_uri": "https://localhost:8080/"
        },
        "id": "37ae9c46",
        "outputId": "4b138e49-af33-4488-c4bd-fb8d62786bde"
      },
      "outputs": [
        {
          "output_type": "execute_result",
          "data": {
            "text/plain": [
              "81"
            ]
          },
          "metadata": {},
          "execution_count": 7
        }
      ],
      "source": [
        "vocab_size = len(vocab)\n",
        "vocab_size"
      ]
    },
    {
      "cell_type": "markdown",
      "id": "c2dfe8d1",
      "metadata": {
        "id": "c2dfe8d1"
      },
      "source": [
        "### Vectorize the text"
      ]
    },
    {
      "cell_type": "code",
      "execution_count": 8,
      "id": "39b17652",
      "metadata": {
        "colab": {
          "base_uri": "https://localhost:8080/"
        },
        "id": "39b17652",
        "outputId": "19ee567d-2695-45ed-c03f-90a30f2ca5f7"
      },
      "outputs": [
        {
          "output_type": "execute_result",
          "data": {
            "text/plain": [
              "32"
            ]
          },
          "metadata": {},
          "execution_count": 8
        }
      ],
      "source": [
        "char_to_ind = {char:ind for ind, char in enumerate(vocab)}\n",
        "char_to_ind['H']"
      ]
    },
    {
      "cell_type": "code",
      "execution_count": 9,
      "id": "98536627",
      "metadata": {
        "colab": {
          "base_uri": "https://localhost:8080/",
          "height": 35
        },
        "id": "98536627",
        "outputId": "228d1512-ceec-4dda-e2a4-b5d7d9330aed"
      },
      "outputs": [
        {
          "output_type": "execute_result",
          "data": {
            "text/plain": [
              "'H'"
            ],
            "application/vnd.google.colaboratory.intrinsic+json": {
              "type": "string"
            }
          },
          "metadata": {},
          "execution_count": 9
        }
      ],
      "source": [
        "ind_to_char = np.array(vocab)\n",
        "ind_to_char[32]"
      ]
    },
    {
      "cell_type": "markdown",
      "id": "a62b0bba",
      "metadata": {
        "id": "a62b0bba"
      },
      "source": [
        "### Encoding the dictionary"
      ]
    },
    {
      "cell_type": "code",
      "execution_count": 10,
      "id": "c72d6797",
      "metadata": {
        "id": "c72d6797"
      },
      "outputs": [],
      "source": [
        "encoded_text = np.array([char_to_ind[c] for c in text])"
      ]
    },
    {
      "cell_type": "code",
      "execution_count": 11,
      "id": "0b1b2731",
      "metadata": {
        "colab": {
          "base_uri": "https://localhost:8080/"
        },
        "id": "0b1b2731",
        "outputId": "e9c4a3c3-fc75-435d-ca4a-10e3b2deb73b"
      },
      "outputs": [
        {
          "output_type": "execute_result",
          "data": {
            "text/plain": [
              "array([ 0,  1,  1, ...,  1, 73, 61])"
            ]
          },
          "metadata": {},
          "execution_count": 11
        }
      ],
      "source": [
        "encoded_text"
      ]
    },
    {
      "cell_type": "code",
      "execution_count": 12,
      "id": "5c9e29af",
      "metadata": {
        "colab": {
          "base_uri": "https://localhost:8080/",
          "height": 53
        },
        "id": "5c9e29af",
        "outputId": "57102ecc-e387-418a-9e7e-2a215e646d18"
      },
      "outputs": [
        {
          "output_type": "execute_result",
          "data": {
            "text/plain": [
              "\"\\n                     1\\n  From fairest creatures we desire increase,\\n  That thereby beauty's rose mi\""
            ],
            "application/vnd.google.colaboratory.intrinsic+json": {
              "type": "string"
            }
          },
          "metadata": {},
          "execution_count": 12
        }
      ],
      "source": [
        "sample = text[:100]\n",
        "sample"
      ]
    },
    {
      "cell_type": "code",
      "execution_count": 13,
      "id": "bbb9f2a7",
      "metadata": {
        "colab": {
          "base_uri": "https://localhost:8080/"
        },
        "id": "bbb9f2a7",
        "outputId": "0c9520c7-131c-43f1-9993-bfc7f9a52915"
      },
      "outputs": [
        {
          "output_type": "execute_result",
          "data": {
            "text/plain": [
              "array([ 0,  1,  1,  1,  1,  1,  1,  1,  1,  1,  1,  1,  1,  1,  1,  1,  1,\n",
              "        1,  1,  1,  1,  1, 12,  0,  1,  1, 30, 71, 68, 66,  1, 59, 54, 62,\n",
              "       71, 58, 72, 73,  1, 56, 71, 58, 54, 73, 74, 71, 58, 72,  1, 76, 58,\n",
              "        1, 57, 58, 72, 62, 71, 58,  1, 62, 67, 56, 71, 58, 54, 72, 58,  8,\n",
              "        0,  1,  1, 44, 61, 54, 73,  1, 73, 61, 58, 71, 58, 55, 78,  1, 55,\n",
              "       58, 54, 74, 73, 78,  5, 72,  1, 71, 68, 72, 58,  1, 66, 62])"
            ]
          },
          "metadata": {},
          "execution_count": 13
        }
      ],
      "source": [
        "encoded_text[:100]"
      ]
    },
    {
      "cell_type": "markdown",
      "id": "f4657346",
      "metadata": {
        "id": "f4657346"
      },
      "source": [
        "### Creating batches"
      ]
    },
    {
      "cell_type": "code",
      "execution_count": 14,
      "id": "0b0421ab",
      "metadata": {
        "id": "0b0421ab"
      },
      "outputs": [],
      "source": [
        "seq_len = 120"
      ]
    },
    {
      "cell_type": "code",
      "execution_count": 15,
      "id": "79f14884",
      "metadata": {
        "colab": {
          "base_uri": "https://localhost:8080/"
        },
        "id": "79f14884",
        "outputId": "f535e0db-07ba-4019-fbaf-421bd51a15db"
      },
      "outputs": [
        {
          "output_type": "execute_result",
          "data": {
            "text/plain": [
              "8665"
            ]
          },
          "metadata": {},
          "execution_count": 15
        }
      ],
      "source": [
        "total_num_seq = len(text) // (seq_len+1)\n",
        "total_num_seq"
      ]
    },
    {
      "cell_type": "code",
      "execution_count": 16,
      "id": "ec726814",
      "metadata": {
        "colab": {
          "base_uri": "https://localhost:8080/"
        },
        "id": "ec726814",
        "outputId": "6e9fe95d-c3aa-4207-a914-3ce12e1b6927"
      },
      "outputs": [
        {
          "output_type": "execute_result",
          "data": {
            "text/plain": [
              "<_TensorSliceDataset element_spec=TensorSpec(shape=(), dtype=tf.int64, name=None)>"
            ]
          },
          "metadata": {},
          "execution_count": 16
        }
      ],
      "source": [
        "char_dataset = tf.data.Dataset.from_tensor_slices(encoded_text)\n",
        "char_dataset"
      ]
    },
    {
      "cell_type": "code",
      "execution_count": 17,
      "id": "d49466cf",
      "metadata": {
        "id": "d49466cf"
      },
      "outputs": [],
      "source": [
        "# for item in char_dataset.take(500):\n",
        "#     print(ind_to_char[item.numpy()])"
      ]
    },
    {
      "cell_type": "code",
      "execution_count": 18,
      "id": "cc83645f",
      "metadata": {
        "id": "cc83645f"
      },
      "outputs": [],
      "source": [
        "sequences = char_dataset.batch(seq_len+1, drop_remainder=True)"
      ]
    },
    {
      "cell_type": "code",
      "execution_count": 19,
      "id": "bd1e59fe",
      "metadata": {
        "id": "bd1e59fe"
      },
      "outputs": [],
      "source": [
        "def create_seq_targets(seq):\n",
        "    input_txt = seq[:-1] # Hello my nam\n",
        "    target_txt = seq[1:] # ello my name\n",
        "    return input_txt, target_txt"
      ]
    },
    {
      "cell_type": "code",
      "execution_count": 20,
      "id": "7594a0a7",
      "metadata": {
        "id": "7594a0a7"
      },
      "outputs": [],
      "source": [
        "dataset = sequences.map(create_seq_targets)"
      ]
    },
    {
      "cell_type": "code",
      "execution_count": 21,
      "id": "19c18f7d",
      "metadata": {
        "colab": {
          "base_uri": "https://localhost:8080/"
        },
        "id": "19c18f7d",
        "outputId": "55091d41-3cb4-418f-943d-0c6075707a7a"
      },
      "outputs": [
        {
          "output_type": "stream",
          "name": "stdout",
          "text": [
            "[ 0  1  1  1  1  1  1  1  1  1  1  1  1  1  1  1  1  1  1  1  1  1 12  0\n",
            "  1  1 30 71 68 66  1 59 54 62 71 58 72 73  1 56 71 58 54 73 74 71 58 72\n",
            "  1 76 58  1 57 58 72 62 71 58  1 62 67 56 71 58 54 72 58  8  0  1  1 44\n",
            " 61 54 73  1 73 61 58 71 58 55 78  1 55 58 54 74 73 78  5 72  1 71 68 72\n",
            " 58  1 66 62 60 61 73  1 67 58 75 58 71  1 57 62 58  8  0  1  1 26 74 73]\n",
            "\n",
            "                     1\n",
            "  From fairest creatures we desire increase,\n",
            "  That thereby beauty's rose might never die,\n",
            "  But\n",
            "\n",
            "\n",
            "[ 1  1  1  1  1  1  1  1  1  1  1  1  1  1  1  1  1  1  1  1  1 12  0  1\n",
            "  1 30 71 68 66  1 59 54 62 71 58 72 73  1 56 71 58 54 73 74 71 58 72  1\n",
            " 76 58  1 57 58 72 62 71 58  1 62 67 56 71 58 54 72 58  8  0  1  1 44 61\n",
            " 54 73  1 73 61 58 71 58 55 78  1 55 58 54 74 73 78  5 72  1 71 68 72 58\n",
            "  1 66 62 60 61 73  1 67 58 75 58 71  1 57 62 58  8  0  1  1 26 74 73  1]\n",
            "                     1\n",
            "  From fairest creatures we desire increase,\n",
            "  That thereby beauty's rose might never die,\n",
            "  But \n"
          ]
        }
      ],
      "source": [
        "for input_txt, target_txt in dataset.take(1):\n",
        "    print(input_txt.numpy())\n",
        "    print(\"\".join(ind_to_char[input_txt.numpy()]))\n",
        "    print('\\n')\n",
        "    print(target_txt.numpy())\n",
        "    print(\"\".join(ind_to_char[target_txt.numpy()]))"
      ]
    },
    {
      "cell_type": "code",
      "execution_count": 22,
      "id": "cbdab226",
      "metadata": {
        "id": "cbdab226"
      },
      "outputs": [],
      "source": [
        "batch_size = 128\n",
        "buffer_size = 10000\n",
        "dataset = dataset.shuffle(buffer_size).batch(batch_size, drop_remainder=True)"
      ]
    },
    {
      "cell_type": "code",
      "execution_count": 23,
      "id": "abb5e282",
      "metadata": {
        "colab": {
          "base_uri": "https://localhost:8080/"
        },
        "id": "abb5e282",
        "outputId": "ee801aa7-e1ff-4d70-9f55-377dc868ea6c"
      },
      "outputs": [
        {
          "output_type": "execute_result",
          "data": {
            "text/plain": [
              "<_BatchDataset element_spec=(TensorSpec(shape=(128, 120), dtype=tf.int64, name=None), TensorSpec(shape=(128, 120), dtype=tf.int64, name=None))>"
            ]
          },
          "metadata": {},
          "execution_count": 23
        }
      ],
      "source": [
        "dataset"
      ]
    },
    {
      "cell_type": "markdown",
      "id": "b8a9f603",
      "metadata": {
        "id": "b8a9f603"
      },
      "source": [
        "### Creating the model"
      ]
    },
    {
      "cell_type": "code",
      "execution_count": 24,
      "id": "d9c464f3",
      "metadata": {
        "id": "d9c464f3"
      },
      "outputs": [],
      "source": [
        "embed_dim = 64"
      ]
    },
    {
      "cell_type": "code",
      "execution_count": 25,
      "id": "81e1bc0f",
      "metadata": {
        "id": "81e1bc0f"
      },
      "outputs": [],
      "source": [
        "rnn_neurons = 1024"
      ]
    },
    {
      "cell_type": "code",
      "execution_count": 26,
      "id": "fcd29a71",
      "metadata": {
        "id": "fcd29a71"
      },
      "outputs": [],
      "source": [
        "def sparse_cat_loss(y_true, y_pred):\n",
        "    return sparse_categorical_crossentropy(y_true, y_pred, from_logits=True)"
      ]
    },
    {
      "cell_type": "code",
      "execution_count": 79,
      "id": "1fbc5656",
      "metadata": {
        "id": "1fbc5656"
      },
      "outputs": [],
      "source": [
        "def create_model(vocab_size, embed_dim, rnn_neurons, batch_size):\n",
        "\n",
        "    model = Sequential()\n",
        "    model.add(Embedding(vocab_size, embed_dim, batch_input_shape=[batch_size, None]))\n",
        "    model.add(GRU(rnn_neurons, return_sequences=True, stateful=True, recurrent_initializer='glorot_uniform'))\n",
        "    model.add(Dense(vocab_size))\n",
        "\n",
        "    model.compile('adam', loss=sparse_cat_loss, metrics = ['accuracy'])\n",
        "\n",
        "    return model"
      ]
    },
    {
      "cell_type": "code",
      "execution_count": 80,
      "id": "87301082",
      "metadata": {
        "id": "87301082"
      },
      "outputs": [],
      "source": [
        "model = create_model(vocab_size=vocab_size, embed_dim=embed_dim, rnn_neurons=rnn_neurons, batch_size=batch_size)"
      ]
    },
    {
      "cell_type": "code",
      "execution_count": 81,
      "id": "4c3959b0",
      "metadata": {
        "colab": {
          "base_uri": "https://localhost:8080/"
        },
        "id": "4c3959b0",
        "outputId": "09ed45f8-b84b-4370-c219-5b55554b66f2"
      },
      "outputs": [
        {
          "output_type": "stream",
          "name": "stdout",
          "text": [
            "Model: \"sequential_2\"\n",
            "_________________________________________________________________\n",
            " Layer (type)                Output Shape              Param #   \n",
            "=================================================================\n",
            " embedding_2 (Embedding)     (128, None, 64)           5184      \n",
            "                                                                 \n",
            " gru_2 (GRU)                 (128, None, 1024)         3348480   \n",
            "                                                                 \n",
            " dense_2 (Dense)             (128, None, 81)           83025     \n",
            "                                                                 \n",
            "=================================================================\n",
            "Total params: 3436689 (13.11 MB)\n",
            "Trainable params: 3436689 (13.11 MB)\n",
            "Non-trainable params: 0 (0.00 Byte)\n",
            "_________________________________________________________________\n"
          ]
        }
      ],
      "source": [
        "model.summary()"
      ]
    },
    {
      "cell_type": "markdown",
      "id": "87502240",
      "metadata": {
        "id": "87502240"
      },
      "source": [
        "### Training the model"
      ]
    },
    {
      "cell_type": "code",
      "execution_count": 82,
      "id": "bda1b205",
      "metadata": {
        "id": "bda1b205"
      },
      "outputs": [],
      "source": [
        "for input_example_batch, target_example_batch in dataset.take(3):\n",
        "\n",
        "  example_batch_pred = model(input_example_batch)\n",
        "\n",
        "sampled_indices = tf.random.categorical(example_batch_pred[0], num_samples=1)"
      ]
    },
    {
      "cell_type": "code",
      "source": [
        "sampled_indices = tf.squeeze(sampled_indices, axis=-1).numpy()\n",
        "sampled_indices"
      ],
      "metadata": {
        "colab": {
          "base_uri": "https://localhost:8080/"
        },
        "id": "LBcLNmny9I_G",
        "outputId": "25cee363-729a-4790-e0f2-f4f5cfad2b92"
      },
      "id": "LBcLNmny9I_G",
      "execution_count": 83,
      "outputs": [
        {
          "output_type": "execute_result",
          "data": {
            "text/plain": [
              "array([ 4, 24, 47, 48,  1, 43, 37, 56, 41, 19, 23,  2, 20, 59, 14, 59, 43,\n",
              "       17, 38, 19, 32, 22,  0, 43, 35, 70, 38, 31, 31, 79, 19, 16, 35, 51,\n",
              "       67, 78, 64, 38,  2, 65, 13, 69, 72, 70, 30, 11, 59, 57, 70,  7, 15,\n",
              "       50,  9, 61, 67, 63, 65, 18, 79, 46, 10, 23, 24, 51, 50, 73,  8, 42,\n",
              "       57, 32, 67, 19, 55, 46, 54, 76, 35, 18, 19, 39, 76, 11,  6, 14, 27,\n",
              "       67, 48, 38, 55, 63,  0, 11, 20,  0, 13, 77, 43, 59, 67, 71, 11, 38,\n",
              "       55,  4, 59, 37, 38, 70, 13, 52, 78, 34, 10,  3, 66, 52, 58, 10, 13,\n",
              "       24])"
            ]
          },
          "metadata": {},
          "execution_count": 83
        }
      ]
    },
    {
      "cell_type": "code",
      "source": [
        "ind_to_char[sampled_indices]"
      ],
      "metadata": {
        "colab": {
          "base_uri": "https://localhost:8080/"
        },
        "id": "A-FBo16s9ikL",
        "outputId": "66ce5bad-31d1-47a1-bb69-9c3c96c5b39b"
      },
      "id": "A-FBo16s9ikL",
      "execution_count": 84,
      "outputs": [
        {
          "output_type": "execute_result",
          "data": {
            "text/plain": [
              "array(['&', '?', 'W', 'X', ' ', 'S', 'M', 'c', 'Q', '8', '<', '!', '9',\n",
              "       'f', '3', 'f', 'S', '6', 'N', '8', 'H', ';', '\\n', 'S', 'K', 'q',\n",
              "       'N', 'G', 'G', 'z', '8', '5', 'K', '[', 'n', 'y', 'k', 'N', '!',\n",
              "       'l', '2', 'p', 's', 'q', 'F', '0', 'f', 'd', 'q', ')', '4', 'Z',\n",
              "       '-', 'h', 'n', 'j', 'l', '7', 'z', 'V', '.', '<', '?', '[', 'Z',\n",
              "       't', ',', 'R', 'd', 'H', 'n', '8', 'b', 'V', 'a', 'w', 'K', '7',\n",
              "       '8', 'O', 'w', '0', '(', '3', 'C', 'n', 'X', 'N', 'b', 'j', '\\n',\n",
              "       '0', '9', '\\n', '2', 'x', 'S', 'f', 'n', 'r', '0', 'N', 'b', '&',\n",
              "       'f', 'M', 'N', 'q', '2', ']', 'y', 'J', '.', '\"', 'm', ']', 'e',\n",
              "       '.', '2', '?'], dtype='<U1')"
            ]
          },
          "metadata": {},
          "execution_count": 84
        }
      ]
    },
    {
      "cell_type": "code",
      "source": [
        "epochs = 30\n",
        "model.fit(dataset, epochs=epochs)"
      ],
      "metadata": {
        "colab": {
          "base_uri": "https://localhost:8080/"
        },
        "id": "b5XYuMK79uDS",
        "outputId": "cc39c1e8-a5f8-48c8-de00-624cbcc290ab"
      },
      "id": "b5XYuMK79uDS",
      "execution_count": 85,
      "outputs": [
        {
          "output_type": "stream",
          "name": "stdout",
          "text": [
            "Epoch 1/30\n",
            "67/67 [==============================] - 12s 125ms/step - loss: 3.5510 - accuracy: 0.2068\n",
            "Epoch 2/30\n",
            "67/67 [==============================] - 9s 113ms/step - loss: 2.6574 - accuracy: 0.2993\n",
            "Epoch 3/30\n",
            "67/67 [==============================] - 9s 112ms/step - loss: 2.2624 - accuracy: 0.3693\n",
            "Epoch 4/30\n",
            "67/67 [==============================] - 9s 116ms/step - loss: 2.0822 - accuracy: 0.4067\n",
            "Epoch 5/30\n",
            "67/67 [==============================] - 10s 119ms/step - loss: 1.9429 - accuracy: 0.4416\n",
            "Epoch 6/30\n",
            "67/67 [==============================] - 10s 120ms/step - loss: 1.8203 - accuracy: 0.4727\n",
            "Epoch 7/30\n",
            "67/67 [==============================] - 10s 119ms/step - loss: 1.7182 - accuracy: 0.4996\n",
            "Epoch 8/30\n",
            "67/67 [==============================] - 9s 115ms/step - loss: 1.6348 - accuracy: 0.5213\n",
            "Epoch 9/30\n",
            "67/67 [==============================] - 9s 115ms/step - loss: 1.5624 - accuracy: 0.5409\n",
            "Epoch 10/30\n",
            "67/67 [==============================] - 10s 114ms/step - loss: 1.5035 - accuracy: 0.5561\n",
            "Epoch 11/30\n",
            "67/67 [==============================] - 9s 114ms/step - loss: 1.4537 - accuracy: 0.5685\n",
            "Epoch 12/30\n",
            "67/67 [==============================] - 9s 116ms/step - loss: 1.4104 - accuracy: 0.5797\n",
            "Epoch 13/30\n",
            "67/67 [==============================] - 10s 118ms/step - loss: 1.3748 - accuracy: 0.5889\n",
            "Epoch 14/30\n",
            "67/67 [==============================] - 9s 117ms/step - loss: 1.3423 - accuracy: 0.5971\n",
            "Epoch 15/30\n",
            "67/67 [==============================] - 10s 116ms/step - loss: 1.3140 - accuracy: 0.6044\n",
            "Epoch 16/30\n",
            "67/67 [==============================] - 9s 116ms/step - loss: 1.2873 - accuracy: 0.6110\n",
            "Epoch 17/30\n",
            "67/67 [==============================] - 9s 115ms/step - loss: 1.2627 - accuracy: 0.6177\n",
            "Epoch 18/30\n",
            "67/67 [==============================] - 9s 115ms/step - loss: 1.2402 - accuracy: 0.6232\n",
            "Epoch 19/30\n",
            "67/67 [==============================] - 9s 117ms/step - loss: 1.2189 - accuracy: 0.6291\n",
            "Epoch 20/30\n",
            "67/67 [==============================] - 10s 117ms/step - loss: 1.1979 - accuracy: 0.6344\n",
            "Epoch 21/30\n",
            "67/67 [==============================] - 10s 117ms/step - loss: 1.1769 - accuracy: 0.6405\n",
            "Epoch 22/30\n",
            "67/67 [==============================] - 9s 117ms/step - loss: 1.1570 - accuracy: 0.6458\n",
            "Epoch 23/30\n",
            "67/67 [==============================] - 9s 117ms/step - loss: 1.1356 - accuracy: 0.6520\n",
            "Epoch 24/30\n",
            "67/67 [==============================] - 9s 116ms/step - loss: 1.1157 - accuracy: 0.6580\n",
            "Epoch 25/30\n",
            "67/67 [==============================] - 10s 116ms/step - loss: 1.0946 - accuracy: 0.6642\n",
            "Epoch 26/30\n",
            "67/67 [==============================] - 10s 117ms/step - loss: 1.0724 - accuracy: 0.6707\n",
            "Epoch 27/30\n",
            "67/67 [==============================] - 9s 117ms/step - loss: 1.0507 - accuracy: 0.6777\n",
            "Epoch 28/30\n",
            "67/67 [==============================] - 9s 117ms/step - loss: 1.0276 - accuracy: 0.6849\n",
            "Epoch 29/30\n",
            "67/67 [==============================] - 9s 116ms/step - loss: 1.0031 - accuracy: 0.6935\n",
            "Epoch 30/30\n",
            "67/67 [==============================] - 10s 115ms/step - loss: 0.9792 - accuracy: 0.7010\n"
          ]
        },
        {
          "output_type": "execute_result",
          "data": {
            "text/plain": [
              "<keras.src.callbacks.History at 0x7aa6d21fe4d0>"
            ]
          },
          "metadata": {},
          "execution_count": 85
        }
      ]
    },
    {
      "cell_type": "code",
      "source": [
        "losses = pd.DataFrame(model.history.history)\n",
        "losses.plot()"
      ],
      "metadata": {
        "colab": {
          "base_uri": "https://localhost:8080/",
          "height": 447
        },
        "id": "1S1M_KrrOgUO",
        "outputId": "fd5b2205-7c9d-48c4-9be1-3c3d2e30be0a"
      },
      "id": "1S1M_KrrOgUO",
      "execution_count": 86,
      "outputs": [
        {
          "output_type": "execute_result",
          "data": {
            "text/plain": [
              "<Axes: >"
            ]
          },
          "metadata": {},
          "execution_count": 86
        },
        {
          "output_type": "display_data",
          "data": {
            "text/plain": [
              "<Figure size 640x480 with 1 Axes>"
            ],
            "image/png": "[encoded data removed]"
          },
          "metadata": {}
        }
      ]
    },
    {
      "cell_type": "code",
      "source": [
        "model.save_weights('./model.h5')"
      ],
      "metadata": {
        "id": "xBEnUp3Q93HO"
      },
      "id": "xBEnUp3Q93HO",
      "execution_count": 87,
      "outputs": []
    },
    {
      "cell_type": "markdown",
      "source": [
        "### Generate Text"
      ],
      "metadata": {
        "id": "bocQRnGdAQGV"
      },
      "id": "bocQRnGdAQGV"
    },
    {
      "cell_type": "code",
      "source": [
        "model = create_model(vocab_size, embed_dim, rnn_neurons, batch_size=1)\n",
        "model.load_weights('/model.h5')\n",
        "model.build(tf.TensorShape([1, None]))"
      ],
      "metadata": {
        "id": "IVBCYxiG_1Vy"
      },
      "id": "IVBCYxiG_1Vy",
      "execution_count": 88,
      "outputs": []
    },
    {
      "cell_type": "code",
      "source": [
        "model.summary()"
      ],
      "metadata": {
        "colab": {
          "base_uri": "https://localhost:8080/"
        },
        "id": "EJb3fMudALKZ",
        "outputId": "c49b1611-538e-4500-cf95-b40839cef75e"
      },
      "id": "EJb3fMudALKZ",
      "execution_count": 89,
      "outputs": [
        {
          "output_type": "stream",
          "name": "stdout",
          "text": [
            "Model: \"sequential_3\"\n",
            "_________________________________________________________________\n",
            " Layer (type)                Output Shape              Param #   \n",
            "=================================================================\n",
            " embedding_3 (Embedding)     (1, None, 64)             5184      \n",
            "                                                                 \n",
            " gru_3 (GRU)                 (1, None, 1024)           3348480   \n",
            "                                                                 \n",
            " dense_3 (Dense)             (1, None, 81)             83025     \n",
            "                                                                 \n",
            "=================================================================\n",
            "Total params: 3436689 (13.11 MB)\n",
            "Trainable params: 3436689 (13.11 MB)\n",
            "Non-trainable params: 0 (0.00 Byte)\n",
            "_________________________________________________________________\n"
          ]
        }
      ]
    },
    {
      "cell_type": "code",
      "source": [
        "def gen_text(model, start_seed, gen_size=500, temp=1.0):\n",
        "\n",
        "  input_eval = [char_to_ind[s] for s in start_seed]\n",
        "  input_eval = tf.expand_dims(input_eval, 0)\n",
        "\n",
        "  text_generated = []\n",
        "  model.reset_states()\n",
        "\n",
        "  num_size = gen_size\n",
        "  temperature = temp\n",
        "\n",
        "  for i in range(num_size):\n",
        "\n",
        "    pred = model(input_eval)\n",
        "    pred = tf.squeeze(pred, 0)\n",
        "    pred = pred / temperature\n",
        "    pred_id = tf.random.categorical(pred, num_samples=1)[-1, 0].numpy()\n",
        "\n",
        "    input_eval = tf.expand_dims([pred_id], 0)\n",
        "\n",
        "    text_generated.append(ind_to_char[pred_id])\n",
        "\n",
        "  return (start_seed + \"\".join(text_generated))"
      ],
      "metadata": {
        "id": "8KGYB0yzANG5"
      },
      "id": "8KGYB0yzANG5",
      "execution_count": 90,
      "outputs": []
    },
    {
      "cell_type": "code",
      "source": [
        "generated_text = gen_text(model=model, start_seed='JULIET', gen_size=1000)"
      ],
      "metadata": {
        "id": "vEEy9pwfBtJ0"
      },
      "id": "vEEy9pwfBtJ0",
      "execution_count": 91,
      "outputs": []
    },
    {
      "cell_type": "code",
      "source": [
        "print(generated_text)"
      ],
      "metadata": {
        "colab": {
          "base_uri": "https://localhost:8080/"
        },
        "id": "Xezst8bbP8Vk",
        "outputId": "aea2a7f0-4896-4e6d-90f8-173aaf5d24b2"
      },
      "id": "Xezst8bbP8Vk",
      "execution_count": 92,
      "outputs": [
        {
          "output_type": "stream",
          "name": "stdout",
          "text": [
            "JULIETPATER. Very worthy Marcius!              Enter a Marters and Marcellus.\n",
            "  Mark.\n",
            "  Fortie and lived more than to come to spend his manisent to you\n",
            "  Vear stamp with strife\n",
            "  Of true eyes withal lossors in thee my slemp,\n",
            "  Till that my bed, some worth thine, almost all to-night.\n",
            "  Bet,\n",
            "  Where all the stherefor I am wrong,\n",
            "  When a consul that  god made yourself\n",
            "    Rather robe doth set them- I bring me,\n",
            "    Speak to the tobbord. Enobarbudu and the\n",
            "\n",
            "          Enter HALUS and LAPIDUS\n",
            "\n",
            "  So thou arm not by death, but I must marry me withoutht command,\n",
            "  And pray bare in solemner out them all.\n",
            "    But bows and dull the tonet in Caesar. Rome. What is the uneffected words,  \n",
            "    Which shall do and not chance come to make;\n",
            "    Mine, mine, nor hote ow's bud or boast,\n",
            "  Unless no worthless lonages be yee.'LE\n",
            "    That hath been drum Rome's more than any pronounce to subject for no own; you\n",
            "  have.\n",
            "  CLOTEN. In Jumies brave new fear'd, scench else to be fought,\n",
            "    The knave them wrough I know not\n"
          ]
        }
      ]
    }
  ],
  "metadata": {
    "kernelspec": {
      "display_name": "Python 3",
      "name": "python3"
    },
    "language_info": {
      "codemirror_mode": {
        "name": "ipython",
        "version": 3
      },
      "file_extension": ".py",
      "mimetype": "text/x-python",
      "name": "python",
      "nbconvert_exporter": "python",
      "pygments_lexer": "ipython3",
      "version": "3.11.3"
    },
    "colab": {
      "provenance": [],
      "gpuType": "T4"
    },
    "accelerator": "GPU"
  },
  "nbformat": 4,
  "nbformat_minor": 5
}