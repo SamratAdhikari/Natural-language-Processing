{
 "cells": [
  {
   "cell_type": "markdown",
   "id": "671e85ef-f8c6-48cb-b8f5-cbf1a16b35bb",
   "metadata": {},
   "source": [
    "https://regex101.com/r/ABAXw2/2"
   ]
  },
  {
   "cell_type": "code",
   "execution_count": 1,
   "id": "6cf0c69b-c7f7-42de-ad4a-cde2e2dab525",
   "metadata": {},
   "outputs": [],
   "source": [
    "import re"
   ]
  },
  {
   "cell_type": "code",
   "execution_count": 2,
   "id": "aa1e9d2d-2da1-48f7-8239-045a2d096856",
   "metadata": {},
   "outputs": [],
   "source": [
    "text = '''\n",
    "Elon musk's phone number is 9825108250, call him if you have any questions on dodgecoin. Tesla's revenue is 40 billion.\n",
    "Tesla's CFO number is (977)-061-5308\n",
    "'''"
   ]
  },
  {
   "cell_type": "code",
   "execution_count": 3,
   "id": "a0cc0e37-4970-43e5-9e7d-3d120a65b858",
   "metadata": {},
   "outputs": [
    {
     "data": {
      "text/plain": [
       "['9825108250', '(977)-061-5308']"
      ]
     },
     "execution_count": 3,
     "metadata": {},
     "output_type": "execute_result"
    }
   ],
   "source": [
    "# get ELon's number:\n",
    "pattern = '\\d{10}'\n",
    "\n",
    "# get Tesla's CFO number:\n",
    "pattern = '\\(\\d{3}\\)-\\d{3}-\\d{4}'\n",
    "\n",
    "# get both the phone numbers:\n",
    "pattern = '\\d{10}|\\(\\d{3}\\)-\\d{3}-\\d{4}'\n",
    "\n",
    "\n",
    "re.findall(pattern, text)"
   ]
  },
  {
   "cell_type": "markdown",
   "id": "cf2336b7-154f-4a8f-b0a2-086d8b6dc27c",
   "metadata": {},
   "source": [
    "**Get characters except ';' and '-'**"
   ]
  },
  {
   "cell_type": "code",
   "execution_count": 7,
   "id": "5ad32ae9-2dd7-4a1b-9d65-257d935d13bd",
   "metadata": {},
   "outputs": [
    {
     "data": {
      "text/plain": [
       "['asda', 'sdhgash', 'asd', 'assd', 'aasd']"
      ]
     },
     "execution_count": 7,
     "metadata": {},
     "output_type": "execute_result"
    }
   ],
   "source": [
    "string = 'asda-sdhgash;asd-;assd;;--aasd-'\n",
    "\n",
    "pattern = '[^;-]+'\n",
    "\n",
    "re.findall(pattern, string)"
   ]
  },
  {
   "cell_type": "markdown",
   "id": "c41079c8-36b2-403e-b896-a467c0251e32",
   "metadata": {},
   "source": [
    "**Extract Note Title**"
   ]
  },
  {
   "cell_type": "code",
   "execution_count": 8,
   "id": "b00d22b3-a4a6-4186-82f2-b59937bb1af6",
   "metadata": {},
   "outputs": [],
   "source": [
    "text = '''\n",
    "Note 1 - Overview\n",
    "Tesla, Inc. (“Tesla”, the “Company”, “we”, “us” or “our”) was incorporated in the State of Delaware on July 1, 2003. We design, develop, manufacture and sell high-performance fully electric vehicles and design, manufacture, install and sell solar energy generation and energy storage\n",
    "products. Our Chief Executive Officer, as the chief operating decision maker (“CODM”), organizes our company, manages resource allocations and measures performance among two operating and reportable segments: (i) automotive and (ii) energy generation and storage.\n",
    "Beginning in the first quarter of 2021, there has been a trend in many parts of the world of increasing availability and administration of vaccines\n",
    "against COVID-19, as well as an easing of restrictions on social, business, travel and government activities and functions. On the other hand, infection\n",
    "rates and regulations continue to fluctuate in various regions and there are ongoing global impacts resulting from the pandemic, including challenges\n",
    "and increases in costs for logistics and supply chains, such as increased port congestion, intermittent supplier delays and a shortfall of semiconductor\n",
    "supply. We have also previously been affected by temporary manufacturing closures, employment and compensation adjustments and impediments to\n",
    "administrative activities supporting our product deliveries and deployments.\n",
    "Note 2 - Summary of Significant Accounting Policies\n",
    "Unaudited Interim Financial Statements\n",
    "The consolidated balance sheet as of September 30, 2021, the consolidated statements of operations, the consolidated statements of\n",
    "comprehensive income, the consolidated statements of redeemable noncontrolling interests and equity for the three and nine months ended September\n",
    "30, 2021 and 2020 and the consolidated statements of cash flows for the nine months ended September 30, 2021 and 2020, as well as other information\n",
    "disclosed in the accompanying notes, are unaudited. The consolidated balance sheet as of December 31, 2020 was derived from the audited\n",
    "consolidated financial statements as of that date. The interim consolidated financial statements and the accompanying notes should be read in\n",
    "conjunction with the annual consolidated financial statements and the accompanying notes contained in our Annual Report on Form 10-K for the year\n",
    "ended December 31, 2020.\n",
    "'''"
   ]
  },
  {
   "cell_type": "code",
   "execution_count": 13,
   "id": "4cf5b178-339a-45fa-8a45-d547555d97b8",
   "metadata": {},
   "outputs": [
    {
     "name": "stdout",
     "output_type": "stream",
     "text": [
      "['Note 1 - Overview', 'Note 2 - Summary of Significant Accounting Policies']\n",
      "['Overview', 'Summary of Significant Accounting Policies']\n"
     ]
    }
   ],
   "source": [
    "pattern = 'Note \\d - [^\\n]*'\n",
    "print(re.findall(pattern, text))\n",
    "\n",
    "pattern = 'Note \\d - ([^\\n]*)'\n",
    "print(re.findall(pattern, text))"
   ]
  },
  {
   "cell_type": "markdown",
   "id": "cc4b198a-cda3-443e-956a-98700edb9b2b",
   "metadata": {},
   "source": [
    "**Extract financial periods from a company's financial reporting**"
   ]
  },
  {
   "cell_type": "code",
   "execution_count": 45,
   "id": "7c2945b6-3dca-4363-82e3-313997ff0f6d",
   "metadata": {},
   "outputs": [],
   "source": [
    "text = '''\n",
    "The gross cost of operating lease vehicles in FY2021 Q1 was $4.85 billion.\n",
    "In previous quarter i.e. FY2020 Q4 it was $34 million. \n",
    "fy2022 q3\n",
    "Tesla's employee count is 5000\n",
    "\n",
    "\n",
    "FY2010 Q2 ==> 78.3\n",
    "FY2011 Q3 ==> 2.2\n",
    "'''"
   ]
  },
  {
   "cell_type": "code",
   "execution_count": 46,
   "id": "a4e087b3-e1c7-4757-af2b-00189edddb76",
   "metadata": {},
   "outputs": [
    {
     "name": "stdout",
     "output_type": "stream",
     "text": [
      "['FY2021 Q1', 'FY2020 Q4', 'FY2010 Q2', 'FY2011 Q3']\n"
     ]
    }
   ],
   "source": [
    "pattern = 'FY\\d{4} Q[1-4]'\n",
    "print(re.findall(pattern, text))"
   ]
  },
  {
   "cell_type": "markdown",
   "id": "7af837b1-8da1-4d00-862f-4ddcccfde800",
   "metadata": {},
   "source": [
    "**Case insensitive pattern match using flags**"
   ]
  },
  {
   "cell_type": "code",
   "execution_count": 47,
   "id": "18ec58f1-23f0-4c58-93a4-f2eea222ba23",
   "metadata": {},
   "outputs": [
    {
     "name": "stdout",
     "output_type": "stream",
     "text": [
      "['FY2021 Q1', 'FY2020 Q4', 'fy2022 q3', 'FY2010 Q2', 'FY2011 Q3']\n"
     ]
    }
   ],
   "source": [
    "print(re.findall(pattern, text, flags=re.IGNORECASE))"
   ]
  },
  {
   "cell_type": "markdown",
   "id": "81cf1a09-6843-4c1d-b4c4-4d97fc6d0760",
   "metadata": {},
   "source": [
    "**Get the year and financial quarter**"
   ]
  },
  {
   "cell_type": "code",
   "execution_count": 48,
   "id": "ccb099ee-3f46-4530-b2f4-7ccbd807ca7d",
   "metadata": {},
   "outputs": [
    {
     "name": "stdout",
     "output_type": "stream",
     "text": [
      "['2021 Q1', '2020 Q4', '2022 q3', '2010 Q2', '2011 Q3']\n"
     ]
    }
   ],
   "source": [
    "pattern = 'FY(\\d{4} Q[1-4])'\n",
    "print(re.findall(pattern, text, flags=re.IGNORECASE))"
   ]
  },
  {
   "cell_type": "markdown",
   "id": "d721980c-d5cf-43fe-ab34-4229882acb0a",
   "metadata": {},
   "source": [
    "**Extract only financial numbers**"
   ]
  },
  {
   "cell_type": "code",
   "execution_count": 49,
   "id": "884aaf16-dca7-4651-86fc-aec3eeb451a6",
   "metadata": {},
   "outputs": [
    {
     "name": "stdout",
     "output_type": "stream",
     "text": [
      "['4.85', '34']\n"
     ]
    }
   ],
   "source": [
    "pattern = '\\$([\\d.]+)'\n",
    "print(re.findall(pattern, text))"
   ]
  },
  {
   "cell_type": "markdown",
   "id": "dabe138c-b729-4b77-9581-487f80784f64",
   "metadata": {},
   "source": [
    "**Extract detailed financial number**"
   ]
  },
  {
   "cell_type": "code",
   "execution_count": 50,
   "id": "6d2df13b-1df9-4ca9-adba-15e4eb7eab39",
   "metadata": {},
   "outputs": [
    {
     "name": "stdout",
     "output_type": "stream",
     "text": [
      "['4.85 billion', '34 million']\n"
     ]
    }
   ],
   "source": [
    "pattern = '\\$([\\d.]+\\s*[billion|million]+)'\n",
    "print(re.findall(pattern, text))"
   ]
  },
  {
   "cell_type": "markdown",
   "id": "1f5af319-ecb4-4de4-a27d-0d150a51eb41",
   "metadata": {},
   "source": []
  },
  {
   "cell_type": "code",
   "execution_count": null,
   "id": "8b1c9ef2-b0db-41b2-8b7e-12145804e467",
   "metadata": {},
   "outputs": [],
   "source": [
    "pattern = r''"
   ]
  },
  {
   "cell_type": "code",
   "execution_count": null,
   "id": "7697937e-0c46-49db-bdc6-2815d67480ec",
   "metadata": {},
   "outputs": [],
   "source": []
  }
 ],
 "metadata": {
  "kernelspec": {
   "display_name": "Python 3 (ipykernel)",
   "language": "python",
   "name": "python3"
  },
  "language_info": {
   "codemirror_mode": {
    "name": "ipython",
    "version": 3
   },
   "file_extension": ".py",
   "mimetype": "text/x-python",
   "name": "python",
   "nbconvert_exporter": "python",
   "pygments_lexer": "ipython3",
   "version": "3.11.3"
  }
 },
 "nbformat": 4,
 "nbformat_minor": 5
}
