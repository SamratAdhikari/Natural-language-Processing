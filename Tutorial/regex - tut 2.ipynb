{
 "cells": [
  {
   "cell_type": "code",
   "execution_count": 1,
   "id": "628d3171-1e7f-4495-b7ed-f8bfacab6446",
   "metadata": {},
   "outputs": [],
   "source": [
    "import re"
   ]
  },
  {
   "cell_type": "code",
   "execution_count": 20,
   "id": "bbb34455-979a-4b93-bbb5-3173d5633053",
   "metadata": {},
   "outputs": [],
   "source": [
    "text = '''\n",
    "chat1 = 'samrat: you are annoying\n",
    "9812345678 samrat-kumar@adhikari.com'\n",
    "\n",
    "chat2 = 'yeti: here it is: (977)-061-5308, mr@yeti.com'\n",
    "\n",
    "chat3 = 'arthur: yes, phone: 9825108250 email: king@arthur.com\n",
    "'''"
   ]
  },
  {
   "cell_type": "code",
   "execution_count": 22,
   "id": "3d966bad-ba4c-4827-a382-d36447813a31",
   "metadata": {},
   "outputs": [
    {
     "data": {
      "text/plain": [
       "['9812345678', '(977)-061-530', '9825108250']"
      ]
     },
     "execution_count": 22,
     "metadata": {},
     "output_type": "execute_result"
    }
   ],
   "source": [
    "phone = r'\\d{10}|(?:\\(\\d{3}\\)-\\d{3}-\\d{3})'\n",
    "re.findall(phone, text)"
   ]
  },
  {
   "cell_type": "code",
   "execution_count": 21,
   "id": "50c5522b-4bcc-4221-abd5-03ab4c0701c5",
   "metadata": {},
   "outputs": [
    {
     "data": {
      "text/plain": [
       "['samrat-kumar@adhikari.com', 'mr@yeti.com', 'king@arthur.com']"
      ]
     },
     "execution_count": 21,
     "metadata": {},
     "output_type": "execute_result"
    }
   ],
   "source": [
    "email = r'[^\\s]+@[^\\.]+\\.com'\n",
    "re.findall(email, text)"
   ]
  },
  {
   "cell_type": "code",
   "execution_count": 29,
   "id": "117308f1-841b-4387-9ee0-3adb989e8abb",
   "metadata": {},
   "outputs": [],
   "source": [
    "text = '''\n",
    "chat1 = 'samrat: hello i have issue with my ORDER # 4125543'\n",
    "chat2 = 'killer: yo, i finna wanna solve a issue with me order 41277777777'\n",
    "chat3 = 'yeti: Hello, please help me solve a issue with my order number 4120000'\n",
    "'''"
   ]
  },
  {
   "cell_type": "code",
   "execution_count": 30,
   "id": "ad01d1ee-f786-4083-aae7-6edd6815f30b",
   "metadata": {},
   "outputs": [
    {
     "data": {
      "text/plain": [
       "['4125543', '41277777777', '4120000']"
      ]
     },
     "execution_count": 30,
     "metadata": {},
     "output_type": "execute_result"
    }
   ],
   "source": [
    "order = r'order\\s*\\S*\\s*\\d*'\n",
    "order = r'order[^\\d]*(\\d*)'\n",
    "re.findall(order, text, flags=re.IGNORECASE)"
   ]
  },
  {
   "cell_type": "code",
   "execution_count": 31,
   "id": "f18f0e6c-8456-41f3-8d12-c270152c0d2e",
   "metadata": {},
   "outputs": [],
   "source": [
    "text = '''\n",
    "Born\tElon Reeve Musk\n",
    "June 28, 1971 (age 52)\n",
    "Pretoria, Transvaal, South Africa\n",
    "Citizenship\t\n",
    "South Africa\n",
    "Canada\n",
    "United States\n",
    "Education\tUniversity of Pennsylvania (BA, BS)\n",
    "Title\t\n",
    "Founder, CEO, and chief engineer of SpaceX\n",
    "CEO and product architect of Tesla, Inc.\n",
    "Owner, CTO and Executive Chairman of X (formerly Twitter)\n",
    "President of the Musk Foundation\n",
    "Founder of The Boring Company, X Corp., and xAI\n",
    "Co-founder of Neuralink, OpenAI, Zip2, and X.com (part of PayPal)\n",
    "Spouses\t\n",
    "Justine Wilson\n",
    "​\n",
    "​(m. 2000; div. 2008)​\n",
    "Talulah Riley\n",
    "​\n",
    "​(m. 2010; div. 2012)​\n",
    "​\n",
    "​(m. 2013; div. 2016)​\n",
    "Partners\t\n",
    "Grimes (2018–2021)[1]\n",
    "Children\t11[a][3]\n",
    "Parents\t\n",
    "Errol Musk\n",
    "Maye Musk\n",
    "Relatives\t\n",
    "Kimbal Musk (brother)\n",
    "Tosca Musk (sister)\n",
    "Lyndon Rive (cousin)\n",
    "Family\tMusk family\n",
    "'''"
   ]
  },
  {
   "cell_type": "code",
   "execution_count": 32,
   "id": "4746bd7c-1750-45ea-a23b-1616e1bc2f68",
   "metadata": {},
   "outputs": [
    {
     "data": {
      "text/plain": [
       "['52']"
      ]
     },
     "execution_count": 32,
     "metadata": {},
     "output_type": "execute_result"
    }
   ],
   "source": [
    "age = r'age (\\d+)'\n",
    "re.findall(age, text)"
   ]
  },
  {
   "cell_type": "code",
   "execution_count": 34,
   "id": "f2c1393a-38f8-42e0-84be-cbe7b3fb32a8",
   "metadata": {},
   "outputs": [
    {
     "data": {
      "text/plain": [
       "['Elon Reeve Musk']"
      ]
     },
     "execution_count": 34,
     "metadata": {},
     "output_type": "execute_result"
    }
   ],
   "source": [
    "fullname = r'Born\\s+([^\\n]+)'\n",
    "re.findall(fullname, text)"
   ]
  },
  {
   "cell_type": "code",
   "execution_count": 38,
   "id": "853b5dd1-8a70-48c8-b49c-f27e07e9ec45",
   "metadata": {},
   "outputs": [
    {
     "data": {
      "text/plain": [
       "['June 28, 1971']"
      ]
     },
     "execution_count": 38,
     "metadata": {},
     "output_type": "execute_result"
    }
   ],
   "source": [
    "birthdate = r'Born.*\\n([^\\n]+) \\('\n",
    "re.findall(birthdate, text)"
   ]
  },
  {
   "cell_type": "code",
   "execution_count": 39,
   "id": "6ad73d94-ec15-475e-b091-79c7839671a5",
   "metadata": {},
   "outputs": [
    {
     "data": {
      "text/plain": [
       "['Pretoria, Transvaal, South Africa']"
      ]
     },
     "execution_count": 39,
     "metadata": {},
     "output_type": "execute_result"
    }
   ],
   "source": [
    "birthplace = r'\\(age.*\\)\\n(.+)'\n",
    "re.findall(birthplace, text)"
   ]
  }
 ],
 "metadata": {
  "kernelspec": {
   "display_name": "Python 3 (ipykernel)",
   "language": "python",
   "name": "python3"
  },
  "language_info": {
   "codemirror_mode": {
    "name": "ipython",
    "version": 3
   },
   "file_extension": ".py",
   "mimetype": "text/x-python",
   "name": "python",
   "nbconvert_exporter": "python",
   "pygments_lexer": "ipython3",
   "version": "3.11.3"
  }
 },
 "nbformat": 4,
 "nbformat_minor": 5
}
