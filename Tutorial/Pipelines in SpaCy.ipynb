{
 "cells": [
  {
   "cell_type": "code",
   "execution_count": 1,
   "id": "b19600a6-dda3-481e-8a80-3d3498b5a717",
   "metadata": {},
   "outputs": [],
   "source": [
    "import spacy"
   ]
  },
  {
   "cell_type": "code",
   "execution_count": 3,
   "id": "00235471-f262-462b-8067-0822bdc664ec",
   "metadata": {},
   "outputs": [
    {
     "name": "stdout",
     "output_type": "stream",
     "text": [
      "Captain\n",
      "america\n",
      "ate\n",
      "100\n",
      "$\n",
      "worth\n",
      "of\n",
      "sambusha\n",
      ".\n",
      "Then\n",
      "he\n",
      "said\n",
      "I\n",
      "can\n",
      "do\n",
      "this\n",
      "all\n",
      "day\n",
      ".\n"
     ]
    }
   ],
   "source": [
    "nlp = spacy.blank('en')\n",
    "\n",
    "doc = nlp('Captain america ate 100$ worth of sambusha. Then he said I can do this all day.')\n",
    "\n",
    "for token in doc:\n",
    "    print(token)"
   ]
  },
  {
   "cell_type": "code",
   "execution_count": 4,
   "id": "85fec3be-c502-4e5c-a7e1-090c5683a878",
   "metadata": {},
   "outputs": [
    {
     "data": {
      "text/plain": [
       "[]"
      ]
     },
     "execution_count": 4,
     "metadata": {},
     "output_type": "execute_result"
    }
   ],
   "source": [
    "nlp.pipe_names"
   ]
  },
  {
   "cell_type": "markdown",
   "id": "2786346a-7198-44d4-8c55-3b8bb18dbe54",
   "metadata": {},
   "source": [
    "!python -m spacy download en_core_web_sm"
   ]
  },
  {
   "cell_type": "code",
   "execution_count": 21,
   "id": "15af852a-7898-464d-b4d4-6730be014c1e",
   "metadata": {},
   "outputs": [],
   "source": [
    "nlp = spacy.load('en_core_web_sm')"
   ]
  },
  {
   "cell_type": "code",
   "execution_count": 22,
   "id": "4e3fbfc4-2ee8-442c-9e9a-01ece2c67956",
   "metadata": {},
   "outputs": [
    {
     "data": {
      "text/plain": [
       "['tok2vec', 'tagger', 'parser', 'attribute_ruler', 'lemmatizer', 'ner']"
      ]
     },
     "execution_count": 22,
     "metadata": {},
     "output_type": "execute_result"
    }
   ],
   "source": [
    "nlp.pipe_names"
   ]
  },
  {
   "cell_type": "code",
   "execution_count": 23,
   "id": "73785658-2756-4107-a6ee-40616dfb9105",
   "metadata": {},
   "outputs": [
    {
     "data": {
      "text/plain": [
       "[('tok2vec', <spacy.pipeline.tok2vec.Tok2Vec at 0x24e1e00c290>),\n",
       " ('tagger', <spacy.pipeline.tagger.Tagger at 0x24e1e00e270>),\n",
       " ('parser', <spacy.pipeline.dep_parser.DependencyParser at 0x24e1cf76810>),\n",
       " ('attribute_ruler',\n",
       "  <spacy.pipeline.attributeruler.AttributeRuler at 0x24e1d116410>),\n",
       " ('lemmatizer', <spacy.lang.en.lemmatizer.EnglishLemmatizer at 0x24e1c9b59d0>),\n",
       " ('ner', <spacy.pipeline.ner.EntityRecognizer at 0x24e1cf766c0>)]"
      ]
     },
     "execution_count": 23,
     "metadata": {},
     "output_type": "execute_result"
    }
   ],
   "source": [
    "nlp.pipeline"
   ]
  },
  {
   "cell_type": "code",
   "execution_count": 24,
   "id": "3ca82220-5ae6-43fa-8256-a07d28cab669",
   "metadata": {},
   "outputs": [
    {
     "name": "stdout",
     "output_type": "stream",
     "text": [
      "Captain \t|\t PROPN \t|\t Captain\n",
      "america \t|\t PROPN \t|\t america\n",
      "ate \t|\t VERB \t|\t eat\n",
      "100 \t|\t NUM \t|\t 100\n",
      "$ \t|\t SYM \t|\t $\n",
      "worth \t|\t ADJ \t|\t worth\n",
      "of \t|\t ADP \t|\t of\n",
      "sambusha \t|\t PROPN \t|\t sambusha\n",
      ". \t|\t PUNCT \t|\t .\n",
      "Then \t|\t ADV \t|\t then\n",
      "he \t|\t PRON \t|\t he\n",
      "said \t|\t VERB \t|\t say\n",
      "I \t|\t PRON \t|\t I\n",
      "can \t|\t AUX \t|\t can\n",
      "do \t|\t VERB \t|\t do\n",
      "this \t|\t PRON \t|\t this\n",
      "all \t|\t DET \t|\t all\n",
      "day \t|\t NOUN \t|\t day\n",
      ". \t|\t PUNCT \t|\t .\n"
     ]
    }
   ],
   "source": [
    "doc = nlp('Captain america ate 100$ worth of sambusha. Then he said I can do this all day.')\n",
    "\n",
    "for token in doc:\n",
    "    print(token, '\\t|\\t', token.pos_, '\\t|\\t', token.lemma_)"
   ]
  },
  {
   "cell_type": "code",
   "execution_count": 25,
   "id": "c7f994ef-29c7-4bc0-877b-f30bf95c1231",
   "metadata": {},
   "outputs": [
    {
     "name": "stdout",
     "output_type": "stream",
     "text": [
      "Tesla Inc \t|\t ORG \t|\t Companies, agencies, institutions, etc.\n",
      "$45 billion \t|\t MONEY \t|\t Monetary values, including unit\n"
     ]
    }
   ],
   "source": [
    "doc = nlp('Tesla Inc is going to acquire twitter for $45 billion.')\n",
    "\n",
    "for entity in doc.ents:\n",
    "    print(entity.text, '\\t|\\t', entity.label_, '\\t|\\t', spacy.explain(entity.label_))"
   ]
  },
  {
   "cell_type": "code",
   "execution_count": 26,
   "id": "d9957144-0829-478b-8b28-b33c2ddcf668",
   "metadata": {},
   "outputs": [],
   "source": [
    "from spacy import displacy"
   ]
  },
  {
   "cell_type": "code",
   "execution_count": 27,
   "id": "ce339344-8789-45ad-bf32-4145de3abedc",
   "metadata": {},
   "outputs": [
    {
     "data": {
      "text/html": [
       "<span class=\"tex2jax_ignore\"><div class=\"entities\" style=\"line-height: 2.5; direction: ltr\">\n",
       "<mark class=\"entity\" style=\"background: #7aecec; padding: 0.45em 0.6em; margin: 0 0.25em; line-height: 1; border-radius: 0.35em;\">\n",
       "    Tesla Inc\n",
       "    <span style=\"font-size: 0.8em; font-weight: bold; line-height: 1; border-radius: 0.35em; vertical-align: middle; margin-left: 0.5rem\">ORG</span>\n",
       "</mark>\n",
       " is going to acquire twitter for \n",
       "<mark class=\"entity\" style=\"background: #e4e7d2; padding: 0.45em 0.6em; margin: 0 0.25em; line-height: 1; border-radius: 0.35em;\">\n",
       "    $45 billion\n",
       "    <span style=\"font-size: 0.8em; font-weight: bold; line-height: 1; border-radius: 0.35em; vertical-align: middle; margin-left: 0.5rem\">MONEY</span>\n",
       "</mark>\n",
       ".</div></span>"
      ],
      "text/plain": [
       "<IPython.core.display.HTML object>"
      ]
     },
     "metadata": {},
     "output_type": "display_data"
    }
   ],
   "source": [
    "displacy.render(doc, style='ent')"
   ]
  },
  {
   "cell_type": "code",
   "execution_count": 28,
   "id": "c4da9e3a-d482-4f42-bc47-d19c0eaf7c98",
   "metadata": {},
   "outputs": [
    {
     "data": {
      "text/plain": [
       "['ner']"
      ]
     },
     "execution_count": 28,
     "metadata": {},
     "output_type": "execute_result"
    }
   ],
   "source": [
    "source_nlp = spacy.load('en_core_web_sm')\n",
    "\n",
    "nlp = spacy.blank('en')\n",
    "nlp.add_pipe('ner', source=source_nlp)\n",
    "nlp.pipe_names"
   ]
  },
  {
   "cell_type": "code",
   "execution_count": 29,
   "id": "950899b9-7ff8-49e8-8acf-9f0945011ea9",
   "metadata": {},
   "outputs": [
    {
     "name": "stdout",
     "output_type": "stream",
     "text": [
      "Tesla Inc \t|\t ORG \t|\t Companies, agencies, institutions, etc.\n",
      "$45 billion \t|\t MONEY \t|\t Monetary values, including unit\n"
     ]
    }
   ],
   "source": [
    "doc = nlp('Tesla Inc is going to acquire twitter for $45 billion.')\n",
    "\n",
    "for entity in doc.ents:\n",
    "    print(entity.text, '\\t|\\t', entity.label_, '\\t|\\t', spacy.explain(entity.label_))"
   ]
  }
 ],
 "metadata": {
  "kernelspec": {
   "display_name": "Python 3 (ipykernel)",
   "language": "python",
   "name": "python3"
  },
  "language_info": {
   "codemirror_mode": {
    "name": "ipython",
    "version": 3
   },
   "file_extension": ".py",
   "mimetype": "text/x-python",
   "name": "python",
   "nbconvert_exporter": "python",
   "pygments_lexer": "ipython3",
   "version": "3.11.3"
  }
 },
 "nbformat": 4,
 "nbformat_minor": 5
}
