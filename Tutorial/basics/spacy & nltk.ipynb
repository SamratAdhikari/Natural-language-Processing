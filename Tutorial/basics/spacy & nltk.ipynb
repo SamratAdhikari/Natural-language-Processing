{
 "cells": [
  {
   "cell_type": "markdown",
   "id": "a6881074-0aa0-4be0-89c5-955b7c2c8e49",
   "metadata": {},
   "source": [
    "**Spacy**  \n",
    "1. Spacy is object oriented\n",
    "2. Spacy is user friendly\n",
    "3. Provides most efficient NLP algorithm for a given task.  \n",
    "   Hence if you care about the end result, go with spacy.\n",
    "\n",
    "****\n",
    "\n",
    "**NLTK**\n",
    "1. Mainly a string processing library.\n",
    "2. Comparatively less user friendly.\n",
    "3. Provides access to many algorithms.  \n",
    "   If you care about specific algorithm and customizations, go with NLTK."
   ]
  },
  {
   "cell_type": "code",
   "execution_count": 1,
   "id": "61f3b225-83d7-4d45-b2ac-76b2465466ad",
   "metadata": {},
   "outputs": [],
   "source": [
    "!pip install --quiet nltk"
   ]
  },
  {
   "cell_type": "code",
   "execution_count": 2,
   "id": "aee72eb7-2fb2-4a90-8bcb-0d292e3ec17f",
   "metadata": {},
   "outputs": [
    {
     "name": "stderr",
     "output_type": "stream",
     "text": [
      "\n",
      "Usage:   \n",
      "  pip <command> [options]\n",
      "\n",
      "no such option: -m\n"
     ]
    }
   ],
   "source": [
    "!pip install --quiet spacy"
   ]
  },
  {
   "cell_type": "code",
   "execution_count": 4,
   "id": "f91e6a56-8186-43ba-94ee-ff6746fa6448",
   "metadata": {},
   "outputs": [
    {
     "name": "stdout",
     "output_type": "stream",
     "text": [
      "Collecting en-core-web-sm==3.7.1\n",
      "  Downloading https://github.com/explosion/spacy-models/releases/download/en_core_web_sm-3.7.1/en_core_web_sm-3.7.1-py3-none-any.whl (12.8 MB)\n",
      "     ---------------------------------------- 0.0/12.8 MB ? eta -:--:--\n",
      "     ---------------------------------------- 0.0/12.8 MB ? eta -:--:--\n",
      "     ---------------------------------------- 0.0/12.8 MB ? eta -:--:--\n",
      "     --------------------------------------- 0.0/12.8 MB 393.8 kB/s eta 0:00:33\n",
      "     --------------------------------------- 0.1/12.8 MB 655.4 kB/s eta 0:00:20\n",
      "     --------------------------------------- 0.1/12.8 MB 654.9 kB/s eta 0:00:20\n",
      "     --------------------------------------- 0.1/12.8 MB 654.9 kB/s eta 0:00:20\n",
      "     --------------------------------------- 0.2/12.8 MB 538.9 kB/s eta 0:00:24\n",
      "      -------------------------------------- 0.2/12.8 MB 583.1 kB/s eta 0:00:22\n",
      "      -------------------------------------- 0.2/12.8 MB 583.1 kB/s eta 0:00:22\n",
      "      -------------------------------------- 0.2/12.8 MB 554.9 kB/s eta 0:00:23\n",
      "      -------------------------------------- 0.3/12.8 MB 562.4 kB/s eta 0:00:23\n",
      "      -------------------------------------- 0.3/12.8 MB 614.4 kB/s eta 0:00:21\n",
      "     - ------------------------------------- 0.4/12.8 MB 655.9 kB/s eta 0:00:19\n",
      "     - ------------------------------------- 0.4/12.8 MB 689.6 kB/s eta 0:00:18\n",
      "     - ------------------------------------- 0.5/12.8 MB 734.9 kB/s eta 0:00:17\n",
      "     - ------------------------------------- 0.5/12.8 MB 730.4 kB/s eta 0:00:17\n",
      "     - ------------------------------------- 0.6/12.8 MB 753.4 kB/s eta 0:00:17\n",
      "     - ------------------------------------- 0.6/12.8 MB 773.6 kB/s eta 0:00:16\n",
      "     -- ------------------------------------ 0.7/12.8 MB 803.9 kB/s eta 0:00:16\n",
      "     -- ------------------------------------ 0.7/12.8 MB 825.0 kB/s eta 0:00:15\n",
      "     -- ------------------------------------ 0.7/12.8 MB 777.4 kB/s eta 0:00:16\n",
      "     -- ------------------------------------ 0.8/12.8 MB 816.6 kB/s eta 0:00:15\n",
      "     -- ------------------------------------ 0.8/12.8 MB 806.3 kB/s eta 0:00:15\n",
      "     -- ------------------------------------ 0.8/12.8 MB 804.5 kB/s eta 0:00:15\n",
      "     -- ------------------------------------ 0.9/12.8 MB 786.3 kB/s eta 0:00:16\n",
      "     -- ------------------------------------ 0.9/12.8 MB 798.7 kB/s eta 0:00:15\n",
      "     -- ------------------------------------ 1.0/12.8 MB 810.9 kB/s eta 0:00:15\n",
      "     --- ----------------------------------- 1.1/12.8 MB 863.0 kB/s eta 0:00:14\n",
      "     --- ----------------------------------- 1.2/12.8 MB 903.3 kB/s eta 0:00:13\n",
      "     --- ----------------------------------- 1.3/12.8 MB 944.8 kB/s eta 0:00:13\n",
      "     ---- ---------------------------------- 1.4/12.8 MB 971.7 kB/s eta 0:00:12\n",
      "     ---- ---------------------------------- 1.4/12.8 MB 954.9 kB/s eta 0:00:12\n",
      "     ---- ---------------------------------- 1.4/12.8 MB 959.1 kB/s eta 0:00:12\n",
      "     ---- ---------------------------------- 1.4/12.8 MB 959.1 kB/s eta 0:00:12\n",
      "     ---- ---------------------------------- 1.5/12.8 MB 950.6 kB/s eta 0:00:12\n",
      "     ---- ---------------------------------- 1.6/12.8 MB 967.4 kB/s eta 0:00:12\n",
      "     ----- --------------------------------- 1.6/12.8 MB 989.4 kB/s eta 0:00:12\n",
      "     ----- --------------------------------- 1.7/12.8 MB 998.1 kB/s eta 0:00:12\n",
      "     ----- ---------------------------------- 1.8/12.8 MB 1.0 MB/s eta 0:00:11\n",
      "     ----- ---------------------------------- 1.8/12.8 MB 1.0 MB/s eta 0:00:11\n",
      "     ----- ---------------------------------- 1.9/12.8 MB 1.0 MB/s eta 0:00:11\n",
      "     ------ --------------------------------- 2.0/12.8 MB 1.0 MB/s eta 0:00:11\n",
      "     ------ --------------------------------- 2.1/12.8 MB 1.1 MB/s eta 0:00:11\n",
      "     ------ --------------------------------- 2.1/12.8 MB 1.1 MB/s eta 0:00:10\n",
      "     ------ --------------------------------- 2.2/12.8 MB 1.1 MB/s eta 0:00:10\n",
      "     ------- -------------------------------- 2.3/12.8 MB 1.1 MB/s eta 0:00:10\n",
      "     ------- -------------------------------- 2.3/12.8 MB 1.1 MB/s eta 0:00:10\n",
      "     ------- -------------------------------- 2.3/12.8 MB 1.1 MB/s eta 0:00:10\n",
      "     ------- -------------------------------- 2.3/12.8 MB 1.1 MB/s eta 0:00:10\n",
      "     ------- -------------------------------- 2.4/12.8 MB 1.1 MB/s eta 0:00:10\n",
      "     ------- -------------------------------- 2.5/12.8 MB 1.1 MB/s eta 0:00:10\n",
      "     ------- -------------------------------- 2.6/12.8 MB 1.1 MB/s eta 0:00:10\n",
      "     -------- ------------------------------- 2.7/12.8 MB 1.1 MB/s eta 0:00:10\n",
      "     -------- ------------------------------- 2.8/12.8 MB 1.1 MB/s eta 0:00:09\n",
      "     -------- ------------------------------- 2.9/12.8 MB 1.2 MB/s eta 0:00:09\n",
      "     -------- ------------------------------- 2.9/12.8 MB 1.2 MB/s eta 0:00:09\n",
      "     --------- ------------------------------ 3.0/12.8 MB 1.2 MB/s eta 0:00:09\n",
      "     --------- ------------------------------ 3.0/12.8 MB 1.2 MB/s eta 0:00:09\n",
      "     --------- ------------------------------ 3.2/12.8 MB 1.2 MB/s eta 0:00:09\n",
      "     ---------- ----------------------------- 3.3/12.8 MB 1.2 MB/s eta 0:00:08\n",
      "     ---------- ----------------------------- 3.3/12.8 MB 1.2 MB/s eta 0:00:08\n",
      "     ---------- ----------------------------- 3.4/12.8 MB 1.2 MB/s eta 0:00:08\n",
      "     ---------- ----------------------------- 3.5/12.8 MB 1.2 MB/s eta 0:00:08\n",
      "     ----------- ---------------------------- 3.5/12.8 MB 1.2 MB/s eta 0:00:08\n",
      "     ----------- ---------------------------- 3.6/12.8 MB 1.2 MB/s eta 0:00:08\n",
      "     ----------- ---------------------------- 3.7/12.8 MB 1.2 MB/s eta 0:00:08\n",
      "     ----------- ---------------------------- 3.8/12.8 MB 1.3 MB/s eta 0:00:08\n",
      "     ------------ --------------------------- 3.9/12.8 MB 1.3 MB/s eta 0:00:08\n",
      "     ------------ --------------------------- 4.0/12.8 MB 1.3 MB/s eta 0:00:07\n",
      "     ------------- -------------------------- 4.2/12.8 MB 1.3 MB/s eta 0:00:07\n",
      "     ------------- -------------------------- 4.2/12.8 MB 1.3 MB/s eta 0:00:07\n",
      "     ------------- -------------------------- 4.3/12.8 MB 1.3 MB/s eta 0:00:07\n",
      "     ------------- -------------------------- 4.3/12.8 MB 1.3 MB/s eta 0:00:07\n",
      "     ------------- -------------------------- 4.3/12.8 MB 1.3 MB/s eta 0:00:07\n",
      "     ------------- -------------------------- 4.4/12.8 MB 1.3 MB/s eta 0:00:07\n",
      "     ------------- -------------------------- 4.4/12.8 MB 1.3 MB/s eta 0:00:07\n",
      "     -------------- ------------------------- 4.5/12.8 MB 1.3 MB/s eta 0:00:07\n",
      "     -------------- ------------------------- 4.6/12.8 MB 1.3 MB/s eta 0:00:07\n",
      "     -------------- ------------------------- 4.7/12.8 MB 1.3 MB/s eta 0:00:07\n",
      "     -------------- ------------------------- 4.8/12.8 MB 1.3 MB/s eta 0:00:07\n",
      "     --------------- ------------------------ 4.8/12.8 MB 1.3 MB/s eta 0:00:07\n",
      "     --------------- ------------------------ 4.9/12.8 MB 1.3 MB/s eta 0:00:06\n",
      "     --------------- ------------------------ 5.0/12.8 MB 1.3 MB/s eta 0:00:06\n",
      "     --------------- ------------------------ 5.1/12.8 MB 1.3 MB/s eta 0:00:06\n",
      "     --------------- ------------------------ 5.1/12.8 MB 1.3 MB/s eta 0:00:06\n",
      "     ---------------- ----------------------- 5.2/12.8 MB 1.3 MB/s eta 0:00:06\n",
      "     ---------------- ----------------------- 5.3/12.8 MB 1.3 MB/s eta 0:00:06\n",
      "     ---------------- ----------------------- 5.3/12.8 MB 1.3 MB/s eta 0:00:06\n",
      "     ---------------- ----------------------- 5.4/12.8 MB 1.3 MB/s eta 0:00:06\n",
      "     ----------------- ---------------------- 5.5/12.8 MB 1.3 MB/s eta 0:00:06\n",
      "     ----------------- ---------------------- 5.6/12.8 MB 1.4 MB/s eta 0:00:06\n",
      "     ----------------- ---------------------- 5.7/12.8 MB 1.4 MB/s eta 0:00:06\n",
      "     ------------------ --------------------- 5.8/12.8 MB 1.4 MB/s eta 0:00:06\n",
      "     ------------------ --------------------- 5.9/12.8 MB 1.4 MB/s eta 0:00:05\n",
      "     ------------------ --------------------- 6.0/12.8 MB 1.4 MB/s eta 0:00:05\n",
      "     ------------------ --------------------- 6.1/12.8 MB 1.4 MB/s eta 0:00:05\n",
      "     ------------------- -------------------- 6.2/12.8 MB 1.4 MB/s eta 0:00:05\n",
      "     ------------------- -------------------- 6.2/12.8 MB 1.4 MB/s eta 0:00:05\n",
      "     ------------------- -------------------- 6.2/12.8 MB 1.4 MB/s eta 0:00:05\n",
      "     ------------------- -------------------- 6.2/12.8 MB 1.4 MB/s eta 0:00:05\n",
      "     ------------------- -------------------- 6.4/12.8 MB 1.4 MB/s eta 0:00:05\n",
      "     -------------------- ------------------- 6.4/12.8 MB 1.4 MB/s eta 0:00:05\n",
      "     -------------------- ------------------- 6.5/12.8 MB 1.4 MB/s eta 0:00:05\n",
      "     -------------------- ------------------- 6.6/12.8 MB 1.4 MB/s eta 0:00:05\n",
      "     -------------------- ------------------- 6.6/12.8 MB 1.4 MB/s eta 0:00:05\n",
      "     -------------------- ------------------- 6.7/12.8 MB 1.4 MB/s eta 0:00:05\n",
      "     --------------------- ------------------ 6.7/12.8 MB 1.4 MB/s eta 0:00:05\n",
      "     --------------------- ------------------ 6.8/12.8 MB 1.4 MB/s eta 0:00:05\n",
      "     --------------------- ------------------ 6.9/12.8 MB 1.4 MB/s eta 0:00:05\n",
      "     --------------------- ------------------ 7.0/12.8 MB 1.4 MB/s eta 0:00:05\n",
      "     --------------------- ------------------ 7.0/12.8 MB 1.4 MB/s eta 0:00:05\n",
      "     ---------------------- ----------------- 7.1/12.8 MB 1.4 MB/s eta 0:00:05\n",
      "     ---------------------- ----------------- 7.1/12.8 MB 1.4 MB/s eta 0:00:05\n",
      "     ---------------------- ----------------- 7.1/12.8 MB 1.4 MB/s eta 0:00:05\n",
      "     ---------------------- ----------------- 7.1/12.8 MB 1.4 MB/s eta 0:00:05\n",
      "     ---------------------- ----------------- 7.2/12.8 MB 1.4 MB/s eta 0:00:05\n",
      "     ---------------------- ----------------- 7.3/12.8 MB 1.4 MB/s eta 0:00:05\n",
      "     ---------------------- ----------------- 7.3/12.8 MB 1.4 MB/s eta 0:00:05\n",
      "     ---------------------- ----------------- 7.3/12.8 MB 1.3 MB/s eta 0:00:05\n",
      "     ---------------------- ----------------- 7.3/12.8 MB 1.3 MB/s eta 0:00:05\n",
      "     ----------------------- ---------------- 7.4/12.8 MB 1.3 MB/s eta 0:00:05\n",
      "     ----------------------- ---------------- 7.4/12.8 MB 1.3 MB/s eta 0:00:05\n",
      "     ----------------------- ---------------- 7.4/12.8 MB 1.3 MB/s eta 0:00:05\n",
      "     ----------------------- ---------------- 7.5/12.8 MB 1.3 MB/s eta 0:00:05\n",
      "     ----------------------- ---------------- 7.5/12.8 MB 1.3 MB/s eta 0:00:05\n",
      "     ----------------------- ---------------- 7.5/12.8 MB 1.3 MB/s eta 0:00:05\n",
      "     ----------------------- ---------------- 7.5/12.8 MB 1.3 MB/s eta 0:00:05\n",
      "     ----------------------- ---------------- 7.6/12.8 MB 1.3 MB/s eta 0:00:05\n",
      "     ----------------------- ---------------- 7.6/12.8 MB 1.3 MB/s eta 0:00:05\n",
      "     ----------------------- ---------------- 7.6/12.8 MB 1.3 MB/s eta 0:00:05\n",
      "     ----------------------- ---------------- 7.7/12.8 MB 1.3 MB/s eta 0:00:05\n",
      "     ------------------------ --------------- 7.7/12.8 MB 1.3 MB/s eta 0:00:04\n",
      "     ------------------------ --------------- 7.8/12.8 MB 1.3 MB/s eta 0:00:04\n",
      "     ------------------------ --------------- 7.8/12.8 MB 1.3 MB/s eta 0:00:04\n",
      "     ------------------------ --------------- 7.8/12.8 MB 1.3 MB/s eta 0:00:04\n",
      "     ------------------------ --------------- 7.9/12.8 MB 1.3 MB/s eta 0:00:04\n",
      "     ------------------------ --------------- 7.9/12.8 MB 1.3 MB/s eta 0:00:04\n",
      "     ------------------------ --------------- 8.0/12.8 MB 1.3 MB/s eta 0:00:04\n",
      "     ------------------------ --------------- 8.0/12.8 MB 1.3 MB/s eta 0:00:04\n",
      "     ------------------------- -------------- 8.1/12.8 MB 1.3 MB/s eta 0:00:04\n",
      "     ------------------------- -------------- 8.1/12.8 MB 1.3 MB/s eta 0:00:04\n",
      "     ------------------------- -------------- 8.1/12.8 MB 1.2 MB/s eta 0:00:04\n",
      "     ------------------------- -------------- 8.1/12.8 MB 1.2 MB/s eta 0:00:04\n",
      "     ------------------------- -------------- 8.2/12.8 MB 1.2 MB/s eta 0:00:04\n",
      "     ------------------------- -------------- 8.2/12.8 MB 1.2 MB/s eta 0:00:04\n",
      "     ------------------------- -------------- 8.2/12.8 MB 1.2 MB/s eta 0:00:04\n",
      "     ------------------------- -------------- 8.3/12.8 MB 1.2 MB/s eta 0:00:04\n",
      "     -------------------------- ------------- 8.4/12.8 MB 1.2 MB/s eta 0:00:04\n",
      "     -------------------------- ------------- 8.4/12.8 MB 1.2 MB/s eta 0:00:04\n",
      "     -------------------------- ------------- 8.5/12.8 MB 1.2 MB/s eta 0:00:04\n",
      "     -------------------------- ------------- 8.5/12.8 MB 1.2 MB/s eta 0:00:04\n",
      "     -------------------------- ------------- 8.5/12.8 MB 1.2 MB/s eta 0:00:04\n",
      "     -------------------------- ------------- 8.5/12.8 MB 1.2 MB/s eta 0:00:04\n",
      "     -------------------------- ------------- 8.6/12.8 MB 1.2 MB/s eta 0:00:04\n",
      "     --------------------------- ------------ 8.6/12.8 MB 1.2 MB/s eta 0:00:04\n",
      "     --------------------------- ------------ 8.6/12.8 MB 1.2 MB/s eta 0:00:04\n",
      "     --------------------------- ------------ 8.7/12.8 MB 1.2 MB/s eta 0:00:04\n",
      "     --------------------------- ------------ 8.8/12.8 MB 1.2 MB/s eta 0:00:04\n",
      "     --------------------------- ------------ 8.8/12.8 MB 1.2 MB/s eta 0:00:04\n",
      "     --------------------------- ------------ 8.8/12.8 MB 1.2 MB/s eta 0:00:04\n",
      "     --------------------------- ------------ 8.8/12.8 MB 1.2 MB/s eta 0:00:04\n",
      "     --------------------------- ------------ 8.9/12.8 MB 1.2 MB/s eta 0:00:04\n",
      "     --------------------------- ------------ 8.9/12.8 MB 1.2 MB/s eta 0:00:04\n",
      "     ---------------------------- ----------- 9.0/12.8 MB 1.2 MB/s eta 0:00:04\n",
      "     ---------------------------- ----------- 9.0/12.8 MB 1.2 MB/s eta 0:00:04\n",
      "     ---------------------------- ----------- 9.1/12.8 MB 1.2 MB/s eta 0:00:04\n",
      "     ---------------------------- ----------- 9.1/12.8 MB 1.2 MB/s eta 0:00:04\n",
      "     ---------------------------- ----------- 9.1/12.8 MB 1.2 MB/s eta 0:00:04\n",
      "     ---------------------------- ----------- 9.1/12.8 MB 1.2 MB/s eta 0:00:04\n",
      "     ---------------------------- ----------- 9.1/12.8 MB 1.2 MB/s eta 0:00:04\n",
      "     ---------------------------- ----------- 9.2/12.8 MB 1.2 MB/s eta 0:00:04\n",
      "     ---------------------------- ----------- 9.3/12.8 MB 1.2 MB/s eta 0:00:04\n",
      "     ----------------------------- ---------- 9.3/12.8 MB 1.2 MB/s eta 0:00:03\n",
      "     ----------------------------- ---------- 9.4/12.8 MB 1.2 MB/s eta 0:00:03\n",
      "     ----------------------------- ---------- 9.4/12.8 MB 1.2 MB/s eta 0:00:03\n",
      "     ----------------------------- ---------- 9.4/12.8 MB 1.2 MB/s eta 0:00:03\n",
      "     ----------------------------- ---------- 9.5/12.8 MB 1.2 MB/s eta 0:00:03\n",
      "     ----------------------------- ---------- 9.6/12.8 MB 1.2 MB/s eta 0:00:03\n",
      "     ----------------------------- ---------- 9.6/12.8 MB 1.2 MB/s eta 0:00:03\n",
      "     ------------------------------ --------- 9.6/12.8 MB 1.2 MB/s eta 0:00:03\n",
      "     ------------------------------ --------- 9.7/12.8 MB 1.2 MB/s eta 0:00:03\n",
      "     ------------------------------ --------- 9.7/12.8 MB 1.2 MB/s eta 0:00:03\n",
      "     ------------------------------ --------- 9.7/12.8 MB 1.1 MB/s eta 0:00:03\n",
      "     ------------------------------ --------- 9.8/12.8 MB 1.2 MB/s eta 0:00:03\n",
      "     ------------------------------ --------- 9.8/12.8 MB 1.2 MB/s eta 0:00:03\n",
      "     ------------------------------ --------- 9.9/12.8 MB 1.2 MB/s eta 0:00:03\n",
      "     ------------------------------- -------- 10.0/12.8 MB 1.2 MB/s eta 0:00:03\n",
      "     ------------------------------- -------- 10.0/12.8 MB 1.2 MB/s eta 0:00:03\n",
      "     ------------------------------- -------- 10.0/12.8 MB 1.2 MB/s eta 0:00:03\n",
      "     ------------------------------- -------- 10.0/12.8 MB 1.1 MB/s eta 0:00:03\n",
      "     ------------------------------- -------- 10.1/12.8 MB 1.1 MB/s eta 0:00:03\n",
      "     ------------------------------- -------- 10.1/12.8 MB 1.1 MB/s eta 0:00:03\n",
      "     ------------------------------- -------- 10.1/12.8 MB 1.1 MB/s eta 0:00:03\n",
      "     ------------------------------- -------- 10.1/12.8 MB 1.1 MB/s eta 0:00:03\n",
      "     ------------------------------- -------- 10.2/12.8 MB 1.1 MB/s eta 0:00:03\n",
      "     -------------------------------- ------- 10.3/12.8 MB 1.1 MB/s eta 0:00:03\n",
      "     -------------------------------- ------- 10.3/12.8 MB 1.1 MB/s eta 0:00:03\n",
      "     -------------------------------- ------- 10.3/12.8 MB 1.1 MB/s eta 0:00:03\n",
      "     -------------------------------- ------- 10.4/12.8 MB 1.1 MB/s eta 0:00:03\n",
      "     -------------------------------- ------- 10.4/12.8 MB 1.1 MB/s eta 0:00:03\n",
      "     -------------------------------- ------- 10.4/12.8 MB 1.1 MB/s eta 0:00:03\n",
      "     -------------------------------- ------- 10.5/12.8 MB 1.1 MB/s eta 0:00:03\n",
      "     -------------------------------- ------- 10.5/12.8 MB 1.2 MB/s eta 0:00:02\n",
      "     --------------------------------- ------ 10.6/12.8 MB 1.2 MB/s eta 0:00:02\n",
      "     --------------------------------- ------ 10.6/12.8 MB 1.2 MB/s eta 0:00:02\n",
      "     --------------------------------- ------ 10.6/12.8 MB 1.2 MB/s eta 0:00:02\n",
      "     --------------------------------- ------ 10.6/12.8 MB 1.2 MB/s eta 0:00:02\n",
      "     --------------------------------- ------ 10.7/12.8 MB 1.1 MB/s eta 0:00:02\n",
      "     --------------------------------- ------ 10.7/12.8 MB 1.1 MB/s eta 0:00:02\n",
      "     --------------------------------- ------ 10.8/12.8 MB 1.1 MB/s eta 0:00:02\n",
      "     --------------------------------- ------ 10.8/12.8 MB 1.1 MB/s eta 0:00:02\n",
      "     ---------------------------------- ----- 10.9/12.8 MB 1.1 MB/s eta 0:00:02\n",
      "     ---------------------------------- ----- 11.0/12.8 MB 1.1 MB/s eta 0:00:02\n",
      "     ---------------------------------- ----- 11.0/12.8 MB 1.1 MB/s eta 0:00:02\n",
      "     ---------------------------------- ----- 11.0/12.8 MB 1.1 MB/s eta 0:00:02\n",
      "     ---------------------------------- ----- 11.1/12.8 MB 1.1 MB/s eta 0:00:02\n",
      "     ---------------------------------- ----- 11.1/12.8 MB 1.1 MB/s eta 0:00:02\n",
      "     ---------------------------------- ----- 11.2/12.8 MB 1.1 MB/s eta 0:00:02\n",
      "     ----------------------------------- ---- 11.2/12.8 MB 1.1 MB/s eta 0:00:02\n",
      "     ----------------------------------- ---- 11.3/12.8 MB 1.1 MB/s eta 0:00:02\n",
      "     ----------------------------------- ---- 11.3/12.8 MB 1.1 MB/s eta 0:00:02\n",
      "     ----------------------------------- ---- 11.3/12.8 MB 1.1 MB/s eta 0:00:02\n",
      "     ----------------------------------- ---- 11.3/12.8 MB 1.1 MB/s eta 0:00:02\n",
      "     ----------------------------------- ---- 11.4/12.8 MB 1.1 MB/s eta 0:00:02\n",
      "     ----------------------------------- ---- 11.4/12.8 MB 1.1 MB/s eta 0:00:02\n",
      "     ----------------------------------- ---- 11.5/12.8 MB 1.1 MB/s eta 0:00:02\n",
      "     ----------------------------------- ---- 11.5/12.8 MB 1.1 MB/s eta 0:00:02\n",
      "     ------------------------------------ --- 11.6/12.8 MB 1.1 MB/s eta 0:00:02\n",
      "     ------------------------------------ --- 11.6/12.8 MB 1.1 MB/s eta 0:00:02\n",
      "     ------------------------------------ --- 11.6/12.8 MB 1.1 MB/s eta 0:00:02\n",
      "     ------------------------------------ --- 11.6/12.8 MB 1.1 MB/s eta 0:00:02\n",
      "     ------------------------------------ --- 11.7/12.8 MB 1.1 MB/s eta 0:00:02\n",
      "     ------------------------------------ --- 11.8/12.8 MB 1.1 MB/s eta 0:00:01\n",
      "     ------------------------------------ --- 11.8/12.8 MB 1.1 MB/s eta 0:00:01\n",
      "     ------------------------------------- -- 11.8/12.8 MB 1.1 MB/s eta 0:00:01\n",
      "     ------------------------------------- -- 11.9/12.8 MB 1.1 MB/s eta 0:00:01\n",
      "     ------------------------------------- -- 11.9/12.8 MB 1.1 MB/s eta 0:00:01\n",
      "     ------------------------------------- -- 12.0/12.8 MB 1.1 MB/s eta 0:00:01\n",
      "     ------------------------------------- -- 12.0/12.8 MB 1.1 MB/s eta 0:00:01\n",
      "     ------------------------------------- -- 12.1/12.8 MB 1.1 MB/s eta 0:00:01\n",
      "     ------------------------------------- -- 12.1/12.8 MB 1.1 MB/s eta 0:00:01\n",
      "     -------------------------------------- - 12.2/12.8 MB 1.1 MB/s eta 0:00:01\n",
      "     -------------------------------------- - 12.3/12.8 MB 1.1 MB/s eta 0:00:01\n",
      "     -------------------------------------- - 12.4/12.8 MB 1.1 MB/s eta 0:00:01\n",
      "     -------------------------------------- - 12.4/12.8 MB 1.1 MB/s eta 0:00:01\n",
      "     -------------------------------------- - 12.4/12.8 MB 1.1 MB/s eta 0:00:01\n",
      "     -------------------------------------- - 12.4/12.8 MB 1.1 MB/s eta 0:00:01\n",
      "     ---------------------------------------  12.5/12.8 MB 1.1 MB/s eta 0:00:01\n",
      "     ---------------------------------------  12.6/12.8 MB 1.1 MB/s eta 0:00:01\n",
      "     ---------------------------------------  12.6/12.8 MB 1.1 MB/s eta 0:00:01\n",
      "     ---------------------------------------  12.6/12.8 MB 1.1 MB/s eta 0:00:01\n",
      "     ---------------------------------------  12.7/12.8 MB 1.1 MB/s eta 0:00:01\n",
      "     ---------------------------------------  12.7/12.8 MB 1.1 MB/s eta 0:00:01\n",
      "     ---------------------------------------  12.7/12.8 MB 1.1 MB/s eta 0:00:01\n",
      "     ---------------------------------------  12.8/12.8 MB 1.1 MB/s eta 0:00:01\n",
      "     ---------------------------------------- 12.8/12.8 MB 1.1 MB/s eta 0:00:00\n",
      "Requirement already satisfied: spacy<3.8.0,>=3.7.2 in d:\\programming\\python\\natural-language-processing\\tutorial\\basics\\venv\\lib\\site-packages (from en-core-web-sm==3.7.1) (3.7.4)\n",
      "Requirement already satisfied: spacy-legacy<3.1.0,>=3.0.11 in d:\\programming\\python\\natural-language-processing\\tutorial\\basics\\venv\\lib\\site-packages (from spacy<3.8.0,>=3.7.2->en-core-web-sm==3.7.1) (3.0.12)\n",
      "Requirement already satisfied: spacy-loggers<2.0.0,>=1.0.0 in d:\\programming\\python\\natural-language-processing\\tutorial\\basics\\venv\\lib\\site-packages (from spacy<3.8.0,>=3.7.2->en-core-web-sm==3.7.1) (1.0.5)\n",
      "Requirement already satisfied: murmurhash<1.1.0,>=0.28.0 in d:\\programming\\python\\natural-language-processing\\tutorial\\basics\\venv\\lib\\site-packages (from spacy<3.8.0,>=3.7.2->en-core-web-sm==3.7.1) (1.0.10)\n",
      "Requirement already satisfied: cymem<2.1.0,>=2.0.2 in d:\\programming\\python\\natural-language-processing\\tutorial\\basics\\venv\\lib\\site-packages (from spacy<3.8.0,>=3.7.2->en-core-web-sm==3.7.1) (2.0.8)\n",
      "Requirement already satisfied: preshed<3.1.0,>=3.0.2 in d:\\programming\\python\\natural-language-processing\\tutorial\\basics\\venv\\lib\\site-packages (from spacy<3.8.0,>=3.7.2->en-core-web-sm==3.7.1) (3.0.9)\n",
      "Requirement already satisfied: thinc<8.3.0,>=8.2.2 in d:\\programming\\python\\natural-language-processing\\tutorial\\basics\\venv\\lib\\site-packages (from spacy<3.8.0,>=3.7.2->en-core-web-sm==3.7.1) (8.2.3)\n",
      "Requirement already satisfied: wasabi<1.2.0,>=0.9.1 in d:\\programming\\python\\natural-language-processing\\tutorial\\basics\\venv\\lib\\site-packages (from spacy<3.8.0,>=3.7.2->en-core-web-sm==3.7.1) (1.1.2)\n",
      "Requirement already satisfied: srsly<3.0.0,>=2.4.3 in d:\\programming\\python\\natural-language-processing\\tutorial\\basics\\venv\\lib\\site-packages (from spacy<3.8.0,>=3.7.2->en-core-web-sm==3.7.1) (2.4.8)\n",
      "Requirement already satisfied: catalogue<2.1.0,>=2.0.6 in d:\\programming\\python\\natural-language-processing\\tutorial\\basics\\venv\\lib\\site-packages (from spacy<3.8.0,>=3.7.2->en-core-web-sm==3.7.1) (2.0.10)\n",
      "Requirement already satisfied: weasel<0.4.0,>=0.1.0 in d:\\programming\\python\\natural-language-processing\\tutorial\\basics\\venv\\lib\\site-packages (from spacy<3.8.0,>=3.7.2->en-core-web-sm==3.7.1) (0.3.4)\n",
      "Requirement already satisfied: typer<0.10.0,>=0.3.0 in d:\\programming\\python\\natural-language-processing\\tutorial\\basics\\venv\\lib\\site-packages (from spacy<3.8.0,>=3.7.2->en-core-web-sm==3.7.1) (0.9.4)\n",
      "Requirement already satisfied: smart-open<7.0.0,>=5.2.1 in d:\\programming\\python\\natural-language-processing\\tutorial\\basics\\venv\\lib\\site-packages (from spacy<3.8.0,>=3.7.2->en-core-web-sm==3.7.1) (6.4.0)\n",
      "Requirement already satisfied: tqdm<5.0.0,>=4.38.0 in d:\\programming\\python\\natural-language-processing\\tutorial\\basics\\venv\\lib\\site-packages (from spacy<3.8.0,>=3.7.2->en-core-web-sm==3.7.1) (4.66.4)\n",
      "Requirement already satisfied: requests<3.0.0,>=2.13.0 in d:\\programming\\python\\natural-language-processing\\tutorial\\basics\\venv\\lib\\site-packages (from spacy<3.8.0,>=3.7.2->en-core-web-sm==3.7.1) (2.31.0)\n",
      "Requirement already satisfied: pydantic!=1.8,!=1.8.1,<3.0.0,>=1.7.4 in d:\\programming\\python\\natural-language-processing\\tutorial\\basics\\venv\\lib\\site-packages (from spacy<3.8.0,>=3.7.2->en-core-web-sm==3.7.1) (2.7.1)\n",
      "Requirement already satisfied: jinja2 in d:\\programming\\python\\natural-language-processing\\tutorial\\basics\\venv\\lib\\site-packages (from spacy<3.8.0,>=3.7.2->en-core-web-sm==3.7.1) (3.1.3)\n",
      "Requirement already satisfied: setuptools in d:\\programming\\python\\natural-language-processing\\tutorial\\basics\\venv\\lib\\site-packages (from spacy<3.8.0,>=3.7.2->en-core-web-sm==3.7.1) (69.5.1)\n",
      "Requirement already satisfied: packaging>=20.0 in d:\\programming\\python\\natural-language-processing\\tutorial\\basics\\venv\\lib\\site-packages (from spacy<3.8.0,>=3.7.2->en-core-web-sm==3.7.1) (24.0)\n",
      "Requirement already satisfied: langcodes<4.0.0,>=3.2.0 in d:\\programming\\python\\natural-language-processing\\tutorial\\basics\\venv\\lib\\site-packages (from spacy<3.8.0,>=3.7.2->en-core-web-sm==3.7.1) (3.4.0)\n",
      "Requirement already satisfied: numpy>=1.19.0 in d:\\programming\\python\\natural-language-processing\\tutorial\\basics\\venv\\lib\\site-packages (from spacy<3.8.0,>=3.7.2->en-core-web-sm==3.7.1) (1.26.4)\n",
      "Requirement already satisfied: language-data>=1.2 in d:\\programming\\python\\natural-language-processing\\tutorial\\basics\\venv\\lib\\site-packages (from langcodes<4.0.0,>=3.2.0->spacy<3.8.0,>=3.7.2->en-core-web-sm==3.7.1) (1.2.0)\n",
      "Requirement already satisfied: annotated-types>=0.4.0 in d:\\programming\\python\\natural-language-processing\\tutorial\\basics\\venv\\lib\\site-packages (from pydantic!=1.8,!=1.8.1,<3.0.0,>=1.7.4->spacy<3.8.0,>=3.7.2->en-core-web-sm==3.7.1) (0.6.0)\n",
      "Requirement already satisfied: pydantic-core==2.18.2 in d:\\programming\\python\\natural-language-processing\\tutorial\\basics\\venv\\lib\\site-packages (from pydantic!=1.8,!=1.8.1,<3.0.0,>=1.7.4->spacy<3.8.0,>=3.7.2->en-core-web-sm==3.7.1) (2.18.2)\n",
      "Requirement already satisfied: typing-extensions>=4.6.1 in d:\\programming\\python\\natural-language-processing\\tutorial\\basics\\venv\\lib\\site-packages (from pydantic!=1.8,!=1.8.1,<3.0.0,>=1.7.4->spacy<3.8.0,>=3.7.2->en-core-web-sm==3.7.1) (4.11.0)\n",
      "Requirement already satisfied: charset-normalizer<4,>=2 in d:\\programming\\python\\natural-language-processing\\tutorial\\basics\\venv\\lib\\site-packages (from requests<3.0.0,>=2.13.0->spacy<3.8.0,>=3.7.2->en-core-web-sm==3.7.1) (3.3.2)\n",
      "Requirement already satisfied: idna<4,>=2.5 in d:\\programming\\python\\natural-language-processing\\tutorial\\basics\\venv\\lib\\site-packages (from requests<3.0.0,>=2.13.0->spacy<3.8.0,>=3.7.2->en-core-web-sm==3.7.1) (3.7)\n",
      "Requirement already satisfied: urllib3<3,>=1.21.1 in d:\\programming\\python\\natural-language-processing\\tutorial\\basics\\venv\\lib\\site-packages (from requests<3.0.0,>=2.13.0->spacy<3.8.0,>=3.7.2->en-core-web-sm==3.7.1) (2.2.1)\n",
      "Requirement already satisfied: certifi>=2017.4.17 in d:\\programming\\python\\natural-language-processing\\tutorial\\basics\\venv\\lib\\site-packages (from requests<3.0.0,>=2.13.0->spacy<3.8.0,>=3.7.2->en-core-web-sm==3.7.1) (2024.2.2)\n",
      "Requirement already satisfied: blis<0.8.0,>=0.7.8 in d:\\programming\\python\\natural-language-processing\\tutorial\\basics\\venv\\lib\\site-packages (from thinc<8.3.0,>=8.2.2->spacy<3.8.0,>=3.7.2->en-core-web-sm==3.7.1) (0.7.11)\n",
      "Requirement already satisfied: confection<1.0.0,>=0.0.1 in d:\\programming\\python\\natural-language-processing\\tutorial\\basics\\venv\\lib\\site-packages (from thinc<8.3.0,>=8.2.2->spacy<3.8.0,>=3.7.2->en-core-web-sm==3.7.1) (0.1.4)\n",
      "Requirement already satisfied: colorama in d:\\programming\\python\\natural-language-processing\\tutorial\\basics\\venv\\lib\\site-packages (from tqdm<5.0.0,>=4.38.0->spacy<3.8.0,>=3.7.2->en-core-web-sm==3.7.1) (0.4.6)\n",
      "Requirement already satisfied: click<9.0.0,>=7.1.1 in d:\\programming\\python\\natural-language-processing\\tutorial\\basics\\venv\\lib\\site-packages (from typer<0.10.0,>=0.3.0->spacy<3.8.0,>=3.7.2->en-core-web-sm==3.7.1) (8.1.7)\n",
      "Requirement already satisfied: cloudpathlib<0.17.0,>=0.7.0 in d:\\programming\\python\\natural-language-processing\\tutorial\\basics\\venv\\lib\\site-packages (from weasel<0.4.0,>=0.1.0->spacy<3.8.0,>=3.7.2->en-core-web-sm==3.7.1) (0.16.0)\n",
      "Requirement already satisfied: MarkupSafe>=2.0 in d:\\programming\\python\\natural-language-processing\\tutorial\\basics\\venv\\lib\\site-packages (from jinja2->spacy<3.8.0,>=3.7.2->en-core-web-sm==3.7.1) (2.1.5)\n",
      "Requirement already satisfied: marisa-trie>=0.7.7 in d:\\programming\\python\\natural-language-processing\\tutorial\\basics\\venv\\lib\\site-packages (from language-data>=1.2->langcodes<4.0.0,>=3.2.0->spacy<3.8.0,>=3.7.2->en-core-web-sm==3.7.1) (1.1.0)\n",
      "Installing collected packages: en-core-web-sm\n",
      "Successfully installed en-core-web-sm-3.7.1\n",
      "\u001b[38;5;3m[!] As of spaCy v3.0, shortcuts like 'en' are deprecated. Please use\n",
      "the full pipeline package name 'en_core_web_sm' instead.\u001b[0m\n",
      "\u001b[38;5;2m[+] Download and installation successful\u001b[0m\n",
      "You can now load the package via spacy.load('en_core_web_sm')\n"
     ]
    }
   ],
   "source": [
    "!python -m spacy download en "
   ]
  },
  {
   "cell_type": "code",
   "execution_count": 3,
   "id": "1181be98-8d22-4d3f-8742-d934174c597c",
   "metadata": {},
   "outputs": [],
   "source": [
    "import spacy"
   ]
  },
  {
   "cell_type": "code",
   "execution_count": 10,
   "id": "68fbf91c-9cd4-4b2f-9095-1b9b2f694c21",
   "metadata": {},
   "outputs": [],
   "source": [
    "nlp = spacy.load('en_core_web_sm')\n",
    "\n",
    "doc = nlp('Dr. Strange loves pav bhaji of Mumbai. Hulk loves chaat of Delhi.')"
   ]
  },
  {
   "cell_type": "code",
   "execution_count": 12,
   "id": "4804821e-e008-402c-a906-489e07c700b7",
   "metadata": {},
   "outputs": [
    {
     "name": "stdout",
     "output_type": "stream",
     "text": [
      "Dr. Strange loves pav bhaji of Mumbai.\n",
      "Hulk loves chaat of Delhi.\n"
     ]
    }
   ],
   "source": [
    "for sentence in doc.sents:\n",
    "    print(sentence)\n",
    "\n",
    "# sentence tokenizer"
   ]
  },
  {
   "cell_type": "code",
   "execution_count": 13,
   "id": "add24776-c4da-4db9-8c93-2f328066a4c8",
   "metadata": {},
   "outputs": [
    {
     "name": "stdout",
     "output_type": "stream",
     "text": [
      "Dr.\n",
      "Strange\n",
      "loves\n",
      "pav\n",
      "bhaji\n",
      "of\n",
      "Mumbai\n",
      ".\n",
      "Hulk\n",
      "loves\n",
      "chaat\n",
      "of\n",
      "Delhi\n",
      ".\n"
     ]
    }
   ],
   "source": [
    "for sentence in doc.sents:\n",
    "    for word in sentence:\n",
    "        print(word)"
   ]
  },
  {
   "cell_type": "code",
   "execution_count": 17,
   "id": "45231f3e-e939-4063-90f5-3567fef10f18",
   "metadata": {},
   "outputs": [
    {
     "name": "stderr",
     "output_type": "stream",
     "text": [
      "[nltk_data] Downloading package punkt to\n",
      "[nltk_data]     C:\\Users\\samjh\\AppData\\Roaming\\nltk_data...\n",
      "[nltk_data]   Unzipping tokenizers\\punkt.zip.\n"
     ]
    },
    {
     "data": {
      "text/plain": [
       "True"
      ]
     },
     "execution_count": 17,
     "metadata": {},
     "output_type": "execute_result"
    }
   ],
   "source": [
    "import nltk\n",
    "nltk.download('punkt')"
   ]
  },
  {
   "cell_type": "code",
   "execution_count": 18,
   "id": "9bab5919-0e5e-4e64-9b9e-bc10423da809",
   "metadata": {},
   "outputs": [],
   "source": [
    "from nltk.tokenize import sent_tokenize"
   ]
  },
  {
   "cell_type": "code",
   "execution_count": 19,
   "id": "0aa22f3f-05f2-48de-bde7-06e1964e9fd9",
   "metadata": {},
   "outputs": [
    {
     "data": {
      "text/plain": [
       "['Dr.', 'Strange loves pav bhaji of Mumbai.', 'Hulk loves chaat of Delhi.']"
      ]
     },
     "execution_count": 19,
     "metadata": {},
     "output_type": "execute_result"
    }
   ],
   "source": [
    "sent_tokenize('Dr. Strange loves pav bhaji of Mumbai. Hulk loves chaat of Delhi.')"
   ]
  },
  {
   "cell_type": "code",
   "execution_count": 20,
   "id": "30ec13b1-c12f-4842-8982-ff3ac4086c5e",
   "metadata": {},
   "outputs": [
    {
     "data": {
      "text/plain": [
       "['Dr',\n",
       " '.',\n",
       " 'Strange',\n",
       " 'loves',\n",
       " 'pav',\n",
       " 'bhaji',\n",
       " 'of',\n",
       " 'Mumbai',\n",
       " '.',\n",
       " 'Hulk',\n",
       " 'loves',\n",
       " 'chaat',\n",
       " 'of',\n",
       " 'Delhi',\n",
       " '.']"
      ]
     },
     "execution_count": 20,
     "metadata": {},
     "output_type": "execute_result"
    }
   ],
   "source": [
    "from nltk.tokenize import word_tokenize\n",
    "\n",
    "word_tokenize('Dr. Strange loves pav bhaji of Mumbai. Hulk loves chaat of Delhi.')"
   ]
  },
  {
   "cell_type": "code",
   "execution_count": null,
   "id": "16cdd81f-52a9-48aa-a342-a49921972a5f",
   "metadata": {},
   "outputs": [],
   "source": []
  }
 ],
 "metadata": {
  "kernelspec": {
   "display_name": "Python 3 (ipykernel)",
   "language": "python",
   "name": "python3"
  },
  "language_info": {
   "codemirror_mode": {
    "name": "ipython",
    "version": 3
   },
   "file_extension": ".py",
   "mimetype": "text/x-python",
   "name": "python",
   "nbconvert_exporter": "python",
   "pygments_lexer": "ipython3",
   "version": "3.11.3"
  }
 },
 "nbformat": 4,
 "nbformat_minor": 5
}
