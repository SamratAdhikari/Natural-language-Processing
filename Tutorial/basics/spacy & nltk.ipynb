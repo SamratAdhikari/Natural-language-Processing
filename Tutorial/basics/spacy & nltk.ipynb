{
 "cells": [
  {
   "cell_type": "code",
   "execution_count": 2,
   "id": "61f3b225-83d7-4d45-b2ac-76b2465466ad",
   "metadata": {},
   "outputs": [
    {
     "name": "stderr",
     "output_type": "stream",
     "text": [
      "\n",
      "[notice] A new release of pip available: 22.3.1 -> 24.0\n",
      "[notice] To update, run: python.exe -m pip install --upgrade pip\n"
     ]
    }
   ],
   "source": [
    "!pip install --quiet nltk"
   ]
  },
  {
   "cell_type": "code",
   "execution_count": null,
   "id": "aee72eb7-2fb2-4a90-8bcb-0d292e3ec17f",
   "metadata": {},
   "outputs": [],
   "source": [
    "!pip install --quiet spacy\n",
    "!pip -m spacy --quiet download en "
   ]
  },
  {
   "cell_type": "code",
   "execution_count": null,
   "id": "1181be98-8d22-4d3f-8742-d934174c597c",
   "metadata": {},
   "outputs": [],
   "source": [
    "import spacy"
   ]
  },
  {
   "cell_type": "code",
   "execution_count": null,
   "id": "68fbf91c-9cd4-4b2f-9095-1b9b2f694c21",
   "metadata": {},
   "outputs": [],
   "source": [
    "spacy.laod('en')"
   ]
  }
 ],
 "metadata": {
  "kernelspec": {
   "display_name": "Python 3 (ipykernel)",
   "language": "python",
   "name": "python3"
  },
  "language_info": {
   "codemirror_mode": {
    "name": "ipython",
    "version": 3
   },
   "file_extension": ".py",
   "mimetype": "text/x-python",
   "name": "python",
   "nbconvert_exporter": "python",
   "pygments_lexer": "ipython3",
   "version": "3.11.3"
  }
 },
 "nbformat": 4,
 "nbformat_minor": 5
}
