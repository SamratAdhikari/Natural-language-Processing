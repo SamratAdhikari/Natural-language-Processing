{
 "cells": [
  {
   "cell_type": "markdown",
   "id": "4075589b-725b-470e-ad6b-f8692e3ae6b1",
   "metadata": {},
   "source": [
    "**Stemming is the process of removing suffix from a word to extract its base word.  \n",
    "eg: ability -> abil**"
   ]
  },
  {
   "cell_type": "markdown",
   "id": "2eecb256-2f5e-4783-98aa-3c14548e8715",
   "metadata": {},
   "source": [
    "**Lemmatization is the process of deriving a base word by using knowledge of a language (a.k.a linguistic knowledge).  \n",
    "eg: ability -> ability**"
   ]
  },
  {
   "cell_type": "code",
   "execution_count": 1,
   "id": "e3a9b5d2-e381-4187-af60-6d8cbc6d4110",
   "metadata": {},
   "outputs": [],
   "source": [
    "import nltk\n",
    "import spacy"
   ]
  },
  {
   "cell_type": "code",
   "execution_count": 3,
   "id": "e4e76ce6-f738-458e-a264-b11e7832b7fc",
   "metadata": {},
   "outputs": [],
   "source": [
    "from nltk.stem import PorterStemmer"
   ]
  },
  {
   "cell_type": "code",
   "execution_count": 4,
   "id": "23bd6c3a-aa8e-4fcb-b224-81b7972be347",
   "metadata": {},
   "outputs": [],
   "source": [
    "stemmer = PorterStemmer()"
   ]
  },
  {
   "cell_type": "code",
   "execution_count": 12,
   "id": "3c808323-8b86-4e8a-a9bf-ccd182ec38d7",
   "metadata": {},
   "outputs": [
    {
     "name": "stdout",
     "output_type": "stream",
     "text": [
      "eating -------> eat\n",
      "eats -------> eat\n",
      "eat -------> eat\n",
      "ate -------> ate\n",
      "adjustable -------> adjust\n",
      "running -------> run\n",
      "rafting -------> raft\n",
      "ability -------> abil\n",
      "meeting -------> meet\n",
      "better -------> better\n"
     ]
    }
   ],
   "source": [
    "words = ['eating', 'eats', 'eat', 'ate', 'adjustable', 'running', 'rafting', 'ability', 'meeting', 'better']\n",
    "\n",
    "for word in words:\n",
    "    print(word, '------->', stemmer.stem(word))"
   ]
  },
  {
   "cell_type": "code",
   "execution_count": 13,
   "id": "a77ac02f-606b-46fc-b18e-0839ca9a9bc9",
   "metadata": {},
   "outputs": [],
   "source": [
    "nlp = spacy.load('en_core_web_sm')"
   ]
  },
  {
   "cell_type": "code",
   "execution_count": 14,
   "id": "ac4ed8d2-eacb-468d-b64e-7c9ab9a0b840",
   "metadata": {},
   "outputs": [
    {
     "name": "stdout",
     "output_type": "stream",
     "text": [
      "eating ----> eat\n",
      "eats ----> eat\n",
      "eat ----> eat\n",
      "ate ----> eat\n",
      "adjustable ----> adjustable\n",
      "running ----> running\n",
      "rafting ----> raft\n",
      "ability ----> ability\n",
      "meeting ----> meeting\n",
      "better ----> well\n"
     ]
    }
   ],
   "source": [
    "doc = nlp('eating eats eat ate adjustable running rafting ability meeting better')\n",
    "\n",
    "for token in doc:\n",
    "    print(token, '---->', token.lemma_)"
   ]
  },
  {
   "cell_type": "code",
   "execution_count": 16,
   "id": "a200331c-05d6-4bdd-b54f-5ca941c214e5",
   "metadata": {},
   "outputs": [
    {
     "name": "stdout",
     "output_type": "stream",
     "text": [
      "Mandalorian -----> Mandalorian\n",
      "talked -----> talk\n",
      "for -----> for\n",
      "3 -----> 3\n",
      "hours -----> hour\n",
      "although -----> although\n",
      "talking -----> talk\n",
      "is -----> be\n",
      "n't -----> not\n",
      "his -----> his\n",
      "thing -----> thing\n",
      ". -----> .\n",
      "He -----> he\n",
      "became -----> become\n",
      "talkative -----> talkative\n",
      ". -----> .\n"
     ]
    }
   ],
   "source": [
    "doc = nlp(\"Mandalorian talked for 3 hours although talking isn't his thing. He became talkative.\")\n",
    "\n",
    "for token in doc:\n",
    "    print(token, '----->', token.lemma_)"
   ]
  },
  {
   "cell_type": "code",
   "execution_count": 17,
   "id": "e72877a2-920c-46df-94b9-00c85bc4498b",
   "metadata": {},
   "outputs": [
    {
     "data": {
      "text/plain": [
       "['tok2vec', 'tagger', 'parser', 'attribute_ruler', 'lemmatizer', 'ner']"
      ]
     },
     "execution_count": 17,
     "metadata": {},
     "output_type": "execute_result"
    }
   ],
   "source": [
    "nlp.pipe_names"
   ]
  },
  {
   "cell_type": "code",
   "execution_count": 20,
   "id": "0a1ba6d2-b5f0-48a8-b3e6-7a93daf000df",
   "metadata": {},
   "outputs": [
    {
     "name": "stdout",
     "output_type": "stream",
     "text": [
      "Bro ---> brother\n",
      "brah ---> brother\n",
      "brudda ---> brother\n",
      "mandem ---> brother\n",
      "homie ---> brother\n",
      "homeboy ---> brother\n"
     ]
    }
   ],
   "source": [
    "attr = nlp.get_pipe('attribute_ruler')\n",
    "\n",
    "broCode = ['Bro', 'brah', 'brudda', 'mandem', 'homie', 'homeboy']\n",
    "attr.add([ [{'TEXT': word}] for word in broCode ], \n",
    "         {'LEMMA': 'brother'})\n",
    "\n",
    "doc = nlp(\"Bro brah brudda mandem homie homeboy\")\n",
    "\n",
    "for token in doc:\n",
    "    print(token, '--->', token.lemma_)"
   ]
  },
  {
   "cell_type": "markdown",
   "id": "a5a9bc76-be49-416a-9c68-d3dbaf333019",
   "metadata": {},
   "source": [
    "### Exercise"
   ]
  },
  {
   "cell_type": "code",
   "execution_count": 21,
   "id": "d37d74e6-abb1-48bc-9aab-967f233eed62",
   "metadata": {},
   "outputs": [],
   "source": [
    "wordList = ['running', 'painting', 'walking', 'dressing', 'likely', 'children', 'whom', 'good', 'ate', 'fishing']"
   ]
  },
  {
   "cell_type": "code",
   "execution_count": 22,
   "id": "5415cf75-314e-4826-ad28-8d324af5c51c",
   "metadata": {},
   "outputs": [
    {
     "name": "stdout",
     "output_type": "stream",
     "text": [
      "running ----> run\n",
      "painting ----> paint\n",
      "walking ----> walk\n",
      "dressing ----> dress\n",
      "likely ----> like\n",
      "children ----> children\n",
      "whom ----> whom\n",
      "good ----> good\n",
      "ate ----> ate\n",
      "fishing ----> fish\n"
     ]
    }
   ],
   "source": [
    "stemmer = PorterStemmer()\n",
    "for word in wordList:\n",
    "    print(word, '---->', stemmer.stem(word))"
   ]
  },
  {
   "cell_type": "code",
   "execution_count": 29,
   "id": "6da97f50-045d-4f2f-94cb-1405be284e9e",
   "metadata": {},
   "outputs": [
    {
     "name": "stdout",
     "output_type": "stream",
     "text": [
      "running ----> run\n",
      "painting ----> paint\n",
      "walking ----> walk\n",
      "dressing ----> dress\n",
      "likely ----> likely\n",
      "children ----> child\n",
      "whom ----> whom\n",
      "good ----> good\n",
      "ate ----> eat\n",
      "fishing ----> fishing\n"
     ]
    }
   ],
   "source": [
    "doc = nlp(' '.join(wordList))\n",
    "for token in doc:\n",
    "    print(token, '---->', token.lemma_)"
   ]
  },
  {
   "cell_type": "code",
   "execution_count": 44,
   "id": "e79b8929-0c36-40c5-922e-c33901aecf0e",
   "metadata": {},
   "outputs": [],
   "source": [
    "text = \"\"\"Latha is very multi talented girl She is good at many skills like dancing running singing playing\n",
    "She also likes eating Pav Bhaji She has a habit of fishing and swimming too Besides all this she is wonderful at cooking too\"\"\""
   ]
  },
  {
   "cell_type": "code",
   "execution_count": 45,
   "id": "69d8def6-2df4-4724-86f5-b4c1081eced9",
   "metadata": {},
   "outputs": [
    {
     "name": "stdout",
     "output_type": "stream",
     "text": [
      "Latha ----> latha\n",
      "is ----> is\n",
      "very ----> veri\n",
      "multi ----> multi\n",
      "talented ----> talent\n",
      "girl ----> girl\n",
      "She ----> she\n",
      "is ----> is\n",
      "good ----> good\n",
      "at ----> at\n",
      "many ----> mani\n",
      "skills ----> skill\n",
      "like ----> like\n",
      "dancing ----> danc\n",
      "running ----> run\n",
      "singing ----> sing\n",
      "playing ----> play\n",
      "She ----> she\n",
      "also ----> also\n",
      "likes ----> like\n",
      "eating ----> eat\n",
      "Pav ----> pav\n",
      "Bhaji ----> bhaji\n",
      "She ----> she\n",
      "has ----> ha\n",
      "a ----> a\n",
      "habit ----> habit\n",
      "of ----> of\n",
      "fishing ----> fish\n",
      "and ----> and\n",
      "swimming ----> swim\n",
      "too ----> too\n",
      "Besides ----> besid\n",
      "all ----> all\n",
      "this ----> thi\n",
      "she ----> she\n",
      "is ----> is\n",
      "wonderful ----> wonder\n",
      "at ----> at\n",
      "cooking ----> cook\n",
      "too ----> too\n"
     ]
    }
   ],
   "source": [
    "for word in text.split():\n",
    "    print(word, '---->', stemmer.stem(word))"
   ]
  },
  {
   "cell_type": "code",
   "execution_count": 46,
   "id": "e4556ffa-2ba1-4439-a529-fcb45f9b63f2",
   "metadata": {},
   "outputs": [
    {
     "name": "stdout",
     "output_type": "stream",
     "text": [
      "Latha ----> Latha\n",
      "is ----> be\n",
      "very ----> very\n",
      "multi ----> multi\n",
      "talented ----> talented\n",
      "girl ----> girl\n",
      "She ----> she\n",
      "is ----> be\n",
      "good ----> good\n",
      "at ----> at\n",
      "many ----> many\n",
      "skills ----> skill\n",
      "like ----> like\n",
      "dancing ----> dance\n",
      "running ----> run\n",
      "singing ----> singing\n",
      "playing ----> playing\n",
      "\n",
      " ----> \n",
      "\n",
      "She ----> she\n",
      "also ----> also\n",
      "likes ----> like\n",
      "eating ----> eat\n",
      "Pav ----> Pav\n",
      "Bhaji ----> Bhaji\n",
      "She ----> she\n",
      "has ----> have\n",
      "a ----> a\n",
      "habit ----> habit\n",
      "of ----> of\n",
      "fishing ----> fishing\n",
      "and ----> and\n",
      "swimming ----> swim\n",
      "too ----> too\n",
      "Besides ----> besides\n",
      "all ----> all\n",
      "this ----> this\n",
      "she ----> she\n",
      "is ----> be\n",
      "wonderful ----> wonderful\n",
      "at ----> at\n",
      "cooking ----> cook\n",
      "too ----> too\n"
     ]
    }
   ],
   "source": [
    "doc = nlp(text)\n",
    "for token in doc:\n",
    "    print(token, '---->', token.lemma_)"
   ]
  },
  {
   "cell_type": "code",
   "execution_count": null,
   "id": "f47e76ab-a46d-4f95-b2e9-38a4df25e984",
   "metadata": {},
   "outputs": [],
   "source": []
  }
 ],
 "metadata": {
  "kernelspec": {
   "display_name": "Python 3 (ipykernel)",
   "language": "python",
   "name": "python3"
  },
  "language_info": {
   "codemirror_mode": {
    "name": "ipython",
    "version": 3
   },
   "file_extension": ".py",
   "mimetype": "text/x-python",
   "name": "python",
   "nbconvert_exporter": "python",
   "pygments_lexer": "ipython3",
   "version": "3.11.3"
  }
 },
 "nbformat": 4,
 "nbformat_minor": 5
}
