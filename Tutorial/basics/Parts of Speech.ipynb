{
 "cells": [
  {
   "cell_type": "markdown",
   "id": "d016aa4f-f3f9-47af-9b2e-306606886a70",
   "metadata": {},
   "source": [
    "<img src='assets/POS.png' width=500 height=500>"
   ]
  },
  {
   "cell_type": "markdown",
   "id": "685137af-4cd6-476f-adca-1927cd8ca77c",
   "metadata": {},
   "source": [
    "### Spacy POS acronym  \n",
    "\n",
    "**INTJ** : Interjection  \n",
    "**PUNCT** : Punctuation  \n",
    "**PROPN** : Proper Noun  \n",
    "**VERB** : Verb  \n",
    "**ADP** : Preposition  \n",
    "**NOUN** : Noun  \n",
    "**CCONJ** : Conjunction  \n",
    "**PRON** : Pronoun  \n",
    "**ADJ** : Adjective  \n",
    "**ADV** : Adverb\n"
   ]
  },
  {
   "cell_type": "code",
   "execution_count": 1,
   "id": "1791c6d5-119e-417c-b5bd-0f2afb82af50",
   "metadata": {},
   "outputs": [],
   "source": [
    "import spacy"
   ]
  },
  {
   "cell_type": "code",
   "execution_count": 3,
   "id": "fef931db-65ba-4dde-b9dc-e61951f1ff52",
   "metadata": {},
   "outputs": [],
   "source": [
    "nlp = spacy.load('en_core_web_sm')"
   ]
  },
  {
   "cell_type": "code",
   "execution_count": 22,
   "id": "fab5fb39-f06d-4340-abe0-a877a991d09e",
   "metadata": {},
   "outputs": [
    {
     "name": "stdout",
     "output_type": "stream",
     "text": [
      "Damn :\n",
      "\t INTJ ----> interjection \t\t UH ----> interjection\n",
      "\n",
      "! :\n",
      "\t PUNCT ----> punctuation \t\t . ----> punctuation mark, sentence closer\n",
      "\n",
      "Elon :\n",
      "\t PROPN ----> proper noun \t\t NNP ----> noun, proper singular\n",
      "\n",
      "flew :\n",
      "\t VERB ----> verb \t\t VBD ----> verb, past tense\n",
      "\n",
      "to :\n",
      "\t ADP ----> adposition \t\t IN ----> conjunction, subordinating or preposition\n",
      "\n",
      "mars :\n",
      "\t NOUN ----> noun \t\t NNS ----> noun, plural\n",
      "\n",
      "yesterday :\n",
      "\t NOUN ----> noun \t\t NN ----> noun, singular or mass\n",
      "\n",
      "and :\n",
      "\t CCONJ ----> coordinating conjunction \t\t CC ----> conjunction, coordinating\n",
      "\n",
      "he :\n",
      "\t PRON ----> pronoun \t\t PRP ----> pronoun, personal\n",
      "\n",
      "bought :\n",
      "\t VERB ----> verb \t\t VBD ----> verb, past tense\n",
      "\n",
      "a :\n",
      "\t DET ----> determiner \t\t DT ----> determiner\n",
      "\n",
      "spicy :\n",
      "\t ADJ ----> adjective \t\t JJ ----> adjective (English), other noun-modifier (Chinese)\n",
      "\n",
      "biryani :\n",
      "\t ADJ ----> adjective \t\t JJ ----> adjective (English), other noun-modifier (Chinese)\n",
      "\n",
      "masala :\n",
      "\t NOUN ----> noun \t\t NN ----> noun, singular or mass\n",
      "\n",
      "with :\n",
      "\t ADP ----> adposition \t\t IN ----> conjunction, subordinating or preposition\n",
      "\n",
      "$ :\n",
      "\t SYM ----> symbol \t\t $ ----> symbol, currency\n",
      "\n",
      "3 :\n",
      "\t NUM ----> numeral \t\t CD ----> cardinal number\n",
      "\n",
      ". :\n",
      "\t PUNCT ----> punctuation \t\t . ----> punctuation mark, sentence closer\n",
      "\n",
      "He :\n",
      "\t PRON ----> pronoun \t\t PRP ----> pronoun, personal\n",
      "\n",
      "runs :\n",
      "\t VERB ----> verb \t\t VBZ ----> verb, 3rd person singular present\n",
      "\n",
      "extremely :\n",
      "\t ADV ----> adverb \t\t RB ----> adverb\n",
      "\n",
      "fast :\n",
      "\t ADV ----> adverb \t\t RB ----> adverb\n",
      "\n",
      ". :\n",
      "\t PUNCT ----> punctuation \t\t . ----> punctuation mark, sentence closer\n",
      "\n"
     ]
    }
   ],
   "source": [
    "doc = nlp('Damn! Elon flew to mars yesterday and he bought a spicy biryani masala with $3. He runs extremely fast.')\n",
    "\n",
    "for token in doc:\n",
    "    print(token, ':\\n\\t', token.pos_, '---->', spacy.explain(token.pos_), '\\t\\t', token.tag_, '---->', spacy.explain(token.tag_))\n",
    "    print()"
   ]
  },
  {
   "cell_type": "code",
   "execution_count": 25,
   "id": "3975e745-5d0f-472e-9182-a0cec54d5c81",
   "metadata": {},
   "outputs": [
    {
     "name": "stdout",
     "output_type": "stream",
     "text": [
      "INTJ -----> 1\n",
      "PUNCT -----> 3\n",
      "PROPN -----> 1\n",
      "VERB -----> 3\n",
      "ADP -----> 2\n",
      "NOUN -----> 3\n",
      "CCONJ -----> 1\n",
      "PRON -----> 2\n",
      "DET -----> 1\n",
      "ADJ -----> 2\n",
      "SYM -----> 1\n",
      "NUM -----> 1\n",
      "ADV -----> 2\n"
     ]
    }
   ],
   "source": [
    "count = doc.count_by(spacy.attrs.POS)\n",
    "\n",
    "for k, v in count.items():\n",
    "    print(doc.vocab[k].text, '----->', v)"
   ]
  },
  {
   "cell_type": "markdown",
   "id": "5c1d3695-a59c-49af-b28e-5311545edeb2",
   "metadata": {},
   "source": [
    "### Exercise"
   ]
  },
  {
   "cell_type": "code",
   "execution_count": 31,
   "id": "37386eb7-807d-4010-9497-b89d31689aef",
   "metadata": {},
   "outputs": [],
   "source": [
    "text = \"\"\"Inflation rose again in April, continuing a climb that has pushed consumers to the brink and is threatening the economic expansion, \n",
    "the Bureau of Labor Statistics reported Wednesday.\\n\\nThe consumer price index, a broad-based measure of prices for goods and services, \n",
    "increased 8.3% from a year ago, higher than the Dow Jones estimate for an 8.1% gain. That represented a slight ease from Marchat peak \n",
    "but was still close to the highest level since the summer of 1982.\"\"\""
   ]
  },
  {
   "cell_type": "markdown",
   "id": "7e42b4d2-ed05-44c6-af23-720a04e835a3",
   "metadata": {},
   "source": [
    "**Extract NOUN and NUM tokens**"
   ]
  },
  {
   "cell_type": "code",
   "execution_count": 32,
   "id": "c643eb40-c7b0-45b8-a1f4-88437a7ea78c",
   "metadata": {},
   "outputs": [],
   "source": [
    "nouns = []\n",
    "nums = []\n",
    "\n",
    "doc = nlp(text)\n",
    "\n",
    "for token in doc:\n",
    "    if token.pos_ == 'NOUN':\n",
    "        nouns.append(token)\n",
    "    elif token.pos_ == 'NUM':\n",
    "        nums.append(token)"
   ]
  },
  {
   "cell_type": "code",
   "execution_count": 33,
   "id": "a4798c90-aa75-4d8f-8f51-779002698249",
   "metadata": {},
   "outputs": [
    {
     "name": "stdout",
     "output_type": "stream",
     "text": [
      "[Inflation, climb, consumers, brink, expansion, consumer, price, index, measure, prices, goods, services, %, year, estimate, %, gain, ease, peak, level, summer] [8.3, 8.1, 1982]\n"
     ]
    }
   ],
   "source": [
    "print(nouns, nums)"
   ]
  },
  {
   "cell_type": "markdown",
   "id": "472035ba-13ff-40ce-a3c0-6dbd2a84cb1a",
   "metadata": {},
   "source": [
    "**Print a count of all POS tags**"
   ]
  },
  {
   "cell_type": "code",
   "execution_count": 35,
   "id": "ad60b4ce-17f7-4862-8b99-091b7dd073f5",
   "metadata": {},
   "outputs": [
    {
     "name": "stdout",
     "output_type": "stream",
     "text": [
      "NOUN ----> 21\n",
      "VERB ----> 8\n",
      "ADV ----> 4\n",
      "ADP ----> 11\n",
      "PROPN ----> 8\n",
      "PUNCT ----> 9\n",
      "DET ----> 12\n",
      "PRON ----> 2\n",
      "AUX ----> 3\n",
      "CCONJ ----> 3\n",
      "ADJ ----> 5\n",
      "SPACE ----> 4\n",
      "NUM ----> 3\n",
      "SCONJ ----> 1\n"
     ]
    }
   ],
   "source": [
    "count = doc.count_by(spacy.attrs.POS)\n",
    "for key, value in count.items():\n",
    "    print(doc.vocab[key].text, '---->', value)"
   ]
  }
 ],
 "metadata": {
  "kernelspec": {
   "display_name": "Python 3 (ipykernel)",
   "language": "python",
   "name": "python3"
  },
  "language_info": {
   "codemirror_mode": {
    "name": "ipython",
    "version": 3
   },
   "file_extension": ".py",
   "mimetype": "text/x-python",
   "name": "python",
   "nbconvert_exporter": "python",
   "pygments_lexer": "ipython3",
   "version": "3.11.3"
  }
 },
 "nbformat": 4,
 "nbformat_minor": 5
}
